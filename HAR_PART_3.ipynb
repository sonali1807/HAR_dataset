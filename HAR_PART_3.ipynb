{
  "nbformat": 4,
  "nbformat_minor": 0,
  "metadata": {
    "colab": {
      "provenance": []
    },
    "kernelspec": {
      "name": "python3",
      "display_name": "Python 3"
    },
    "language_info": {
      "name": "python"
    },
    "accelerator": "GPU",
    "gpuClass": "standard"
  },
  "cells": [
    {
      "cell_type": "markdown",
      "source": [
        "# Applying LSTM Models on Raw Data"
      ],
      "metadata": {
        "id": "jUkGXVGfU1xN"
      }
    },
    {
      "cell_type": "code",
      "execution_count": null,
      "metadata": {
        "id": "7USnX2QTSuKt"
      },
      "outputs": [],
      "source": [
        "# Importing Libraries\n",
        "\n",
        "import pandas as pd\n",
        "import numpy as np\n",
        "\n",
        "# Import Keras\n",
        "from keras import backend as K\n",
        "from keras.models import Sequential\n",
        "from keras.layers import LSTM\n",
        "from keras.layers.core import Dense, Dropout\n",
        "from keras.layers import BatchNormalization\n",
        "from keras.regularizers import L1L2"
      ]
    },
    {
      "cell_type": "code",
      "source": [
        "# Activities are the class labels\n",
        "# It is a 6 class classification\n",
        "ACTIVITIES = {\n",
        "    0: 'WALKING',\n",
        "    1: 'WALKING_UPSTAIRS',\n",
        "    2: 'WALKING_DOWNSTAIRS',\n",
        "    3: 'SITTING',\n",
        "    4: 'STANDING',\n",
        "    5: 'LAYING',\n",
        "}"
      ],
      "metadata": {
        "id": "UklmP7-eU9Wm"
      },
      "execution_count": null,
      "outputs": []
    },
    {
      "cell_type": "code",
      "source": [
        "import matplotlib.pyplot as plt\n",
        "import seaborn as sns\n",
        "\n",
        "# function to print the confusion matrix\n",
        "\n",
        "def confusion_matrix(Y_true, Y_pred):\n",
        "    \n",
        "    Y_true = pd.Series([ACTIVITIES[y] for y in np.argmax(Y_true, axis=1)])\n",
        "    Y_pred = pd.Series([ACTIVITIES[y] for y in np.argmax(Y_pred, axis=1)])\n",
        "\n",
        "    return pd.crosstab(Y_true, Y_pred, rownames=['True'], colnames=['Pred'])\n",
        "\n",
        "    \n",
        "    result = confusion_matrix(Y_true, Y_pred)\n",
        "\n",
        "    plt.figure(figsize=(10, 8))\n",
        "    sns.heatmap(result, \n",
        "                xticklabels= list(ACTIVITIES.values()), \n",
        "                yticklabels=list(ACTIVITIES.values()), \n",
        "                annot=True, fmt=\"d\");\n",
        "    plt.title(\"Confusion matrix\")\n",
        "    plt.ylabel('True label')\n",
        "    plt.xlabel('Predicted label')\n",
        "    plt.show() "
      ],
      "metadata": {
        "id": "cG79tQGXVASE"
      },
      "execution_count": null,
      "outputs": []
    },
    {
      "cell_type": "markdown",
      "source": [
        "### Loading Data"
      ],
      "metadata": {
        "id": "dfbEhMvGVG4K"
      }
    },
    {
      "cell_type": "code",
      "source": [
        "# Data directory\n",
        "DATADIR = 'UCI_HAR_Dataset'\n",
        "\n",
        "# Raw data signals\n",
        "# Signals are from Accelerometer and Gyroscope\n",
        "# The signals are in x,y,z directions\n",
        "# Sensor signals are filtered to have only body acceleration\n",
        "# excluding the acceleration due to gravity\n",
        "# Triaxial acceleration from the accelerometer is total acceleration\n",
        "SIGNALS = [\n",
        "    \"body_acc_x\",\n",
        "    \"body_acc_y\",\n",
        "    \"body_acc_z\",\n",
        "    \"body_gyro_x\",\n",
        "    \"body_gyro_y\",\n",
        "    \"body_gyro_z\",\n",
        "    \"total_acc_x\",\n",
        "    \"total_acc_y\",\n",
        "    \"total_acc_z\"\n",
        "    ]"
      ],
      "metadata": {
        "id": "W6E6gq2tVJjl"
      },
      "execution_count": null,
      "outputs": []
    },
    {
      "cell_type": "code",
      "source": [
        "# define a function to read the data from csv file\n",
        "def _read_csv(filename):\n",
        "    return pd.read_csv(filename, delim_whitespace=True, header=None)\n",
        "\n",
        "# function to load the load\n",
        "def load_signals(subset):\n",
        "    signals_data = []\n",
        "\n",
        "    for signal in SIGNALS:\n",
        "        filename = f'/content/drive/MyDrive/UCI_HAR_Dataset/{subset}/Inertial Signals/{signal}_{subset}.txt'\n",
        "        signals_data.append(\n",
        "            _read_csv(filename).to_numpy()\n",
        "        ) \n",
        "\n",
        "    # Transpose is used to change the dimensionality of the output,\n",
        "    # aggregating the signals by combination of sample/timestep.\n",
        "    # Resultant shape is (7352 train/2947 test samples, 128 timesteps, 9 signals)\n",
        "    return np.transpose(signals_data, (1, 2, 0))"
      ],
      "metadata": {
        "id": "Gbp0kyOLVO13"
      },
      "execution_count": null,
      "outputs": []
    },
    {
      "cell_type": "code",
      "source": [
        "def load_y(subset):\n",
        "    \"\"\"\n",
        "    The objective that we are trying to predict is a integer, from 1 to 6,\n",
        "    that represents a human activity. We return a binary representation of \n",
        "    every sample objective as a 6 bits vector using One Hot Encoding\n",
        "    (https://pandas.pydata.org/pandas-docs/stable/generated/pandas.get_dummies.html)\n",
        "    \"\"\"\n",
        "    filename = f'/content/drive/MyDrive/UCI_HAR_Dataset/{subset}/y_{subset}.txt'\n",
        "    y = _read_csv(filename)[0]\n",
        "\n",
        "    return pd.get_dummies(y).to_numpy()"
      ],
      "metadata": {
        "id": "MOXrPORRVRcJ"
      },
      "execution_count": null,
      "outputs": []
    },
    {
      "cell_type": "code",
      "source": [
        "def load_data():\n",
        "    \"\"\"\n",
        "    Obtain the dataset from multiple files.\n",
        "    Returns: X_train, X_test, y_train, y_test\n",
        "    \"\"\"\n",
        "    X_train, X_test = load_signals('train'), load_signals('test')\n",
        "    y_train, y_test = load_y('train'), load_y('test')\n",
        "\n",
        "    return X_train, X_test, y_train, y_test"
      ],
      "metadata": {
        "id": "MEf5hg9lVTun"
      },
      "execution_count": null,
      "outputs": []
    },
    {
      "cell_type": "code",
      "source": [
        "# Importing tensorflow\n",
        "np.random.seed(42)\n",
        "import tensorflow as tf\n",
        "tf.random.set_seed(42)"
      ],
      "metadata": {
        "id": "Edexn_grVWug"
      },
      "execution_count": null,
      "outputs": []
    },
    {
      "cell_type": "code",
      "source": [
        "# Initializing parameters\n",
        "epochs = 30\n",
        "batch_size = 16\n",
        "n_hidden = 32"
      ],
      "metadata": {
        "id": "B4dT-A4bVapl"
      },
      "execution_count": null,
      "outputs": []
    },
    {
      "cell_type": "code",
      "source": [
        "#function to count the number of classes\n",
        "def _count_classes(y):\n",
        "    return len(set([tuple(category) for category in y]))"
      ],
      "metadata": {
        "id": "5D6pcPuVVbyl"
      },
      "execution_count": null,
      "outputs": []
    },
    {
      "cell_type": "code",
      "source": [
        "# Loading the train and test data\n",
        "X_train, X_test, y_train, y_test = load_data()"
      ],
      "metadata": {
        "id": "VUoSMvSfVga3"
      },
      "execution_count": null,
      "outputs": []
    },
    {
      "cell_type": "code",
      "source": [
        "timesteps = len(X_train[0])\n",
        "input_dim = len(X_train[0][0])\n",
        "n_classes = _count_classes(y_train)\n",
        "\n",
        "print(timesteps)\n",
        "print(input_dim)\n",
        "print(len(X_train))"
      ],
      "metadata": {
        "colab": {
          "base_uri": "https://localhost:8080/"
        },
        "id": "MXby1ubyVjBV",
        "outputId": "113b5717-2b2a-457f-c8ef-42bb6c34c057"
      },
      "execution_count": null,
      "outputs": [
        {
          "output_type": "stream",
          "name": "stdout",
          "text": [
            "128\n",
            "9\n",
            "7352\n"
          ]
        }
      ]
    },
    {
      "cell_type": "markdown",
      "source": [
        " 1. Defining the Architecture of 1-Layer of LSTM"
      ],
      "metadata": {
        "id": "m182sLnyVl0K"
      }
    },
    {
      "cell_type": "code",
      "source": [
        "# Initiliazing the sequential model\n",
        "model = Sequential()\n",
        "# Configuring the parameters\n",
        "model.add(LSTM(n_hidden, input_shape=(timesteps, input_dim)))\n",
        "# Adding a dropout layer\n",
        "model.add(Dropout(0.5))\n",
        "# Adding a dense output layer with sigmoid activation\n",
        "model.add(Dense(n_classes, activation='sigmoid'))\n",
        "model.summary()"
      ],
      "metadata": {
        "colab": {
          "base_uri": "https://localhost:8080/"
        },
        "id": "BGD2Lt3MVnK5",
        "outputId": "457ae414-002d-4918-dea4-aa20b724ff11"
      },
      "execution_count": null,
      "outputs": [
        {
          "output_type": "stream",
          "name": "stdout",
          "text": [
            "Model: \"sequential\"\n",
            "_________________________________________________________________\n",
            " Layer (type)                Output Shape              Param #   \n",
            "=================================================================\n",
            " lstm (LSTM)                 (None, 32)                5376      \n",
            "                                                                 \n",
            " dropout (Dropout)           (None, 32)                0         \n",
            "                                                                 \n",
            " dense (Dense)               (None, 6)                 198       \n",
            "                                                                 \n",
            "=================================================================\n",
            "Total params: 5,574\n",
            "Trainable params: 5,574\n",
            "Non-trainable params: 0\n",
            "_________________________________________________________________\n"
          ]
        }
      ]
    },
    {
      "cell_type": "code",
      "source": [
        "# Compiling the model\n",
        "model.compile(loss='categorical_crossentropy', optimizer='rmsprop', metrics=['accuracy'])"
      ],
      "metadata": {
        "id": "MIX8hyRoVrSs"
      },
      "execution_count": null,
      "outputs": []
    },
    {
      "cell_type": "code",
      "source": [
        "# Training the model\n",
        "model.fit(X_train, y_train, batch_size=batch_size, validation_data=(X_test, y_test),epochs=epochs)"
      ],
      "metadata": {
        "colab": {
          "base_uri": "https://localhost:8080/"
        },
        "id": "RxoV_8fdVt7u",
        "outputId": "a64262ed-a52e-4b3a-dc77-b98747a6bd7b"
      },
      "execution_count": null,
      "outputs": [
        {
          "output_type": "stream",
          "name": "stdout",
          "text": [
            "Epoch 1/30\n",
            "460/460 [==============================] - 12s 9ms/step - loss: 1.1016 - accuracy: 0.5365 - val_loss: 0.8723 - val_accuracy: 0.6138\n",
            "Epoch 2/30\n",
            "460/460 [==============================] - 5s 11ms/step - loss: 0.7845 - accuracy: 0.6489 - val_loss: 0.7582 - val_accuracy: 0.6766\n",
            "Epoch 3/30\n",
            "460/460 [==============================] - 4s 8ms/step - loss: 0.6789 - accuracy: 0.6952 - val_loss: 0.6788 - val_accuracy: 0.7248\n",
            "Epoch 4/30\n",
            "460/460 [==============================] - 3s 8ms/step - loss: 0.5698 - accuracy: 0.7821 - val_loss: 0.5663 - val_accuracy: 0.8032\n",
            "Epoch 5/30\n",
            "460/460 [==============================] - 4s 8ms/step - loss: 0.4379 - accuracy: 0.8619 - val_loss: 0.5142 - val_accuracy: 0.8286\n",
            "Epoch 6/30\n",
            "460/460 [==============================] - 6s 12ms/step - loss: 0.3452 - accuracy: 0.8983 - val_loss: 0.4806 - val_accuracy: 0.8371\n",
            "Epoch 7/30\n",
            "460/460 [==============================] - 5s 11ms/step - loss: 0.2986 - accuracy: 0.9119 - val_loss: 0.5096 - val_accuracy: 0.8521\n",
            "Epoch 8/30\n",
            "460/460 [==============================] - 4s 9ms/step - loss: 0.2649 - accuracy: 0.9176 - val_loss: 0.4506 - val_accuracy: 0.8663\n",
            "Epoch 9/30\n",
            "460/460 [==============================] - 4s 8ms/step - loss: 0.2231 - accuracy: 0.9289 - val_loss: 0.3963 - val_accuracy: 0.8833\n",
            "Epoch 10/30\n",
            "460/460 [==============================] - 4s 9ms/step - loss: 0.2309 - accuracy: 0.9313 - val_loss: 0.4752 - val_accuracy: 0.8826\n",
            "Epoch 11/30\n",
            "460/460 [==============================] - 4s 9ms/step - loss: 0.2184 - accuracy: 0.9294 - val_loss: 0.4024 - val_accuracy: 0.8911\n",
            "Epoch 12/30\n",
            "460/460 [==============================] - 6s 12ms/step - loss: 0.1867 - accuracy: 0.9378 - val_loss: 0.3646 - val_accuracy: 0.8928\n",
            "Epoch 13/30\n",
            "460/460 [==============================] - 3s 8ms/step - loss: 0.1774 - accuracy: 0.9403 - val_loss: 0.4255 - val_accuracy: 0.8924\n",
            "Epoch 14/30\n",
            "460/460 [==============================] - 3s 7ms/step - loss: 0.1775 - accuracy: 0.9403 - val_loss: 0.4349 - val_accuracy: 0.8802\n",
            "Epoch 15/30\n",
            "460/460 [==============================] - 4s 8ms/step - loss: 0.1661 - accuracy: 0.9436 - val_loss: 0.4543 - val_accuracy: 0.8887\n",
            "Epoch 16/30\n",
            "460/460 [==============================] - 4s 9ms/step - loss: 0.1716 - accuracy: 0.9431 - val_loss: 0.4188 - val_accuracy: 0.8996\n",
            "Epoch 17/30\n",
            "460/460 [==============================] - 3s 7ms/step - loss: 0.1649 - accuracy: 0.9419 - val_loss: 0.4173 - val_accuracy: 0.8877\n",
            "Epoch 18/30\n",
            "460/460 [==============================] - 3s 8ms/step - loss: 0.1610 - accuracy: 0.9425 - val_loss: 0.4142 - val_accuracy: 0.8941\n",
            "Epoch 19/30\n",
            "460/460 [==============================] - 7s 14ms/step - loss: 0.1525 - accuracy: 0.9438 - val_loss: 0.3878 - val_accuracy: 0.8931\n",
            "Epoch 20/30\n",
            "460/460 [==============================] - 4s 8ms/step - loss: 0.1618 - accuracy: 0.9456 - val_loss: 0.4443 - val_accuracy: 0.8850\n",
            "Epoch 21/30\n",
            "460/460 [==============================] - 6s 14ms/step - loss: 0.1684 - accuracy: 0.9446 - val_loss: 0.3698 - val_accuracy: 0.9009\n",
            "Epoch 22/30\n",
            "460/460 [==============================] - 5s 10ms/step - loss: 0.1636 - accuracy: 0.9457 - val_loss: 0.2992 - val_accuracy: 0.8989\n",
            "Epoch 23/30\n",
            "460/460 [==============================] - 3s 8ms/step - loss: 0.1648 - accuracy: 0.9446 - val_loss: 0.3036 - val_accuracy: 0.8996\n",
            "Epoch 24/30\n",
            "460/460 [==============================] - 3s 8ms/step - loss: 0.1542 - accuracy: 0.9463 - val_loss: 0.3790 - val_accuracy: 0.8982\n",
            "Epoch 25/30\n",
            "460/460 [==============================] - 4s 9ms/step - loss: 0.1387 - accuracy: 0.9483 - val_loss: 0.3010 - val_accuracy: 0.9036\n",
            "Epoch 26/30\n",
            "460/460 [==============================] - 4s 8ms/step - loss: 0.1457 - accuracy: 0.9448 - val_loss: 0.3418 - val_accuracy: 0.9016\n",
            "Epoch 27/30\n",
            "460/460 [==============================] - 3s 8ms/step - loss: 0.1534 - accuracy: 0.9453 - val_loss: 0.2554 - val_accuracy: 0.9179\n",
            "Epoch 28/30\n",
            "460/460 [==============================] - 3s 8ms/step - loss: 0.1381 - accuracy: 0.9502 - val_loss: 0.3710 - val_accuracy: 0.9023\n",
            "Epoch 29/30\n",
            "460/460 [==============================] - 5s 10ms/step - loss: 0.1537 - accuracy: 0.9475 - val_loss: 0.2842 - val_accuracy: 0.9186\n",
            "Epoch 30/30\n",
            "460/460 [==============================] - 3s 8ms/step - loss: 0.1324 - accuracy: 0.9495 - val_loss: 0.4404 - val_accuracy: 0.9026\n"
          ]
        },
        {
          "output_type": "execute_result",
          "data": {
            "text/plain": [
              "<keras.callbacks.History at 0x7f3982578af0>"
            ]
          },
          "metadata": {},
          "execution_count": 15
        }
      ]
    },
    {
      "cell_type": "code",
      "source": [
        "# Confusion Matrix\n",
        "confusion_matrix(y_test, model.predict(X_test))"
      ],
      "metadata": {
        "colab": {
          "base_uri": "https://localhost:8080/",
          "height": 286
        },
        "id": "Pl6Y6R3zVwzE",
        "outputId": "a8b98e7b-24f7-40d9-9c09-d456e771cdb5"
      },
      "execution_count": null,
      "outputs": [
        {
          "output_type": "stream",
          "name": "stdout",
          "text": [
            "93/93 [==============================] - 1s 4ms/step\n"
          ]
        },
        {
          "output_type": "execute_result",
          "data": {
            "text/plain": [
              "Pred                LAYING  SITTING  STANDING  WALKING  WALKING_DOWNSTAIRS  \\\n",
              "True                                                                         \n",
              "LAYING                 510        0         2       25                   0   \n",
              "SITTING                  2      367       117        3                   0   \n",
              "STANDING                 0       66       464        2                   0   \n",
              "WALKING                  0        0         0      451                  11   \n",
              "WALKING_DOWNSTAIRS       0        0         0        1                 400   \n",
              "WALKING_UPSTAIRS         0        1         0        2                   0   \n",
              "\n",
              "Pred                WALKING_UPSTAIRS  \n",
              "True                                  \n",
              "LAYING                             0  \n",
              "SITTING                            2  \n",
              "STANDING                           0  \n",
              "WALKING                           34  \n",
              "WALKING_DOWNSTAIRS                19  \n",
              "WALKING_UPSTAIRS                 468  "
            ],
            "text/html": [
              "\n",
              "  <div id=\"df-fd01f3a4-0dd3-48c1-9fd0-5cefe4c90e9e\">\n",
              "    <div class=\"colab-df-container\">\n",
              "      <div>\n",
              "<style scoped>\n",
              "    .dataframe tbody tr th:only-of-type {\n",
              "        vertical-align: middle;\n",
              "    }\n",
              "\n",
              "    .dataframe tbody tr th {\n",
              "        vertical-align: top;\n",
              "    }\n",
              "\n",
              "    .dataframe thead th {\n",
              "        text-align: right;\n",
              "    }\n",
              "</style>\n",
              "<table border=\"1\" class=\"dataframe\">\n",
              "  <thead>\n",
              "    <tr style=\"text-align: right;\">\n",
              "      <th>Pred</th>\n",
              "      <th>LAYING</th>\n",
              "      <th>SITTING</th>\n",
              "      <th>STANDING</th>\n",
              "      <th>WALKING</th>\n",
              "      <th>WALKING_DOWNSTAIRS</th>\n",
              "      <th>WALKING_UPSTAIRS</th>\n",
              "    </tr>\n",
              "    <tr>\n",
              "      <th>True</th>\n",
              "      <th></th>\n",
              "      <th></th>\n",
              "      <th></th>\n",
              "      <th></th>\n",
              "      <th></th>\n",
              "      <th></th>\n",
              "    </tr>\n",
              "  </thead>\n",
              "  <tbody>\n",
              "    <tr>\n",
              "      <th>LAYING</th>\n",
              "      <td>510</td>\n",
              "      <td>0</td>\n",
              "      <td>2</td>\n",
              "      <td>25</td>\n",
              "      <td>0</td>\n",
              "      <td>0</td>\n",
              "    </tr>\n",
              "    <tr>\n",
              "      <th>SITTING</th>\n",
              "      <td>2</td>\n",
              "      <td>367</td>\n",
              "      <td>117</td>\n",
              "      <td>3</td>\n",
              "      <td>0</td>\n",
              "      <td>2</td>\n",
              "    </tr>\n",
              "    <tr>\n",
              "      <th>STANDING</th>\n",
              "      <td>0</td>\n",
              "      <td>66</td>\n",
              "      <td>464</td>\n",
              "      <td>2</td>\n",
              "      <td>0</td>\n",
              "      <td>0</td>\n",
              "    </tr>\n",
              "    <tr>\n",
              "      <th>WALKING</th>\n",
              "      <td>0</td>\n",
              "      <td>0</td>\n",
              "      <td>0</td>\n",
              "      <td>451</td>\n",
              "      <td>11</td>\n",
              "      <td>34</td>\n",
              "    </tr>\n",
              "    <tr>\n",
              "      <th>WALKING_DOWNSTAIRS</th>\n",
              "      <td>0</td>\n",
              "      <td>0</td>\n",
              "      <td>0</td>\n",
              "      <td>1</td>\n",
              "      <td>400</td>\n",
              "      <td>19</td>\n",
              "    </tr>\n",
              "    <tr>\n",
              "      <th>WALKING_UPSTAIRS</th>\n",
              "      <td>0</td>\n",
              "      <td>1</td>\n",
              "      <td>0</td>\n",
              "      <td>2</td>\n",
              "      <td>0</td>\n",
              "      <td>468</td>\n",
              "    </tr>\n",
              "  </tbody>\n",
              "</table>\n",
              "</div>\n",
              "      <button class=\"colab-df-convert\" onclick=\"convertToInteractive('df-fd01f3a4-0dd3-48c1-9fd0-5cefe4c90e9e')\"\n",
              "              title=\"Convert this dataframe to an interactive table.\"\n",
              "              style=\"display:none;\">\n",
              "        \n",
              "  <svg xmlns=\"http://www.w3.org/2000/svg\" height=\"24px\"viewBox=\"0 0 24 24\"\n",
              "       width=\"24px\">\n",
              "    <path d=\"M0 0h24v24H0V0z\" fill=\"none\"/>\n",
              "    <path d=\"M18.56 5.44l.94 2.06.94-2.06 2.06-.94-2.06-.94-.94-2.06-.94 2.06-2.06.94zm-11 1L8.5 8.5l.94-2.06 2.06-.94-2.06-.94L8.5 2.5l-.94 2.06-2.06.94zm10 10l.94 2.06.94-2.06 2.06-.94-2.06-.94-.94-2.06-.94 2.06-2.06.94z\"/><path d=\"M17.41 7.96l-1.37-1.37c-.4-.4-.92-.59-1.43-.59-.52 0-1.04.2-1.43.59L10.3 9.45l-7.72 7.72c-.78.78-.78 2.05 0 2.83L4 21.41c.39.39.9.59 1.41.59.51 0 1.02-.2 1.41-.59l7.78-7.78 2.81-2.81c.8-.78.8-2.07 0-2.86zM5.41 20L4 18.59l7.72-7.72 1.47 1.35L5.41 20z\"/>\n",
              "  </svg>\n",
              "      </button>\n",
              "      \n",
              "  <style>\n",
              "    .colab-df-container {\n",
              "      display:flex;\n",
              "      flex-wrap:wrap;\n",
              "      gap: 12px;\n",
              "    }\n",
              "\n",
              "    .colab-df-convert {\n",
              "      background-color: #E8F0FE;\n",
              "      border: none;\n",
              "      border-radius: 50%;\n",
              "      cursor: pointer;\n",
              "      display: none;\n",
              "      fill: #1967D2;\n",
              "      height: 32px;\n",
              "      padding: 0 0 0 0;\n",
              "      width: 32px;\n",
              "    }\n",
              "\n",
              "    .colab-df-convert:hover {\n",
              "      background-color: #E2EBFA;\n",
              "      box-shadow: 0px 1px 2px rgba(60, 64, 67, 0.3), 0px 1px 3px 1px rgba(60, 64, 67, 0.15);\n",
              "      fill: #174EA6;\n",
              "    }\n",
              "\n",
              "    [theme=dark] .colab-df-convert {\n",
              "      background-color: #3B4455;\n",
              "      fill: #D2E3FC;\n",
              "    }\n",
              "\n",
              "    [theme=dark] .colab-df-convert:hover {\n",
              "      background-color: #434B5C;\n",
              "      box-shadow: 0px 1px 3px 1px rgba(0, 0, 0, 0.15);\n",
              "      filter: drop-shadow(0px 1px 2px rgba(0, 0, 0, 0.3));\n",
              "      fill: #FFFFFF;\n",
              "    }\n",
              "  </style>\n",
              "\n",
              "      <script>\n",
              "        const buttonEl =\n",
              "          document.querySelector('#df-fd01f3a4-0dd3-48c1-9fd0-5cefe4c90e9e button.colab-df-convert');\n",
              "        buttonEl.style.display =\n",
              "          google.colab.kernel.accessAllowed ? 'block' : 'none';\n",
              "\n",
              "        async function convertToInteractive(key) {\n",
              "          const element = document.querySelector('#df-fd01f3a4-0dd3-48c1-9fd0-5cefe4c90e9e');\n",
              "          const dataTable =\n",
              "            await google.colab.kernel.invokeFunction('convertToInteractive',\n",
              "                                                     [key], {});\n",
              "          if (!dataTable) return;\n",
              "\n",
              "          const docLinkHtml = 'Like what you see? Visit the ' +\n",
              "            '<a target=\"_blank\" href=https://colab.research.google.com/notebooks/data_table.ipynb>data table notebook</a>'\n",
              "            + ' to learn more about interactive tables.';\n",
              "          element.innerHTML = '';\n",
              "          dataTable['output_type'] = 'display_data';\n",
              "          await google.colab.output.renderOutput(dataTable, element);\n",
              "          const docLink = document.createElement('div');\n",
              "          docLink.innerHTML = docLinkHtml;\n",
              "          element.appendChild(docLink);\n",
              "        }\n",
              "      </script>\n",
              "    </div>\n",
              "  </div>\n",
              "  "
            ]
          },
          "metadata": {},
          "execution_count": 16
        }
      ]
    },
    {
      "cell_type": "code",
      "source": [
        "score = model.evaluate(X_test, y_test)\n",
        "\n",
        "print(\"\\n   categorical_crossentropy  ||   accuracy \")\n",
        "print(\"  ____________________________________\")\n",
        "print(score)"
      ],
      "metadata": {
        "colab": {
          "base_uri": "https://localhost:8080/"
        },
        "id": "hwFZ64M7V0dN",
        "outputId": "edd7c609-23bb-4a0d-fdaf-a883a70c9c66"
      },
      "execution_count": null,
      "outputs": [
        {
          "output_type": "stream",
          "name": "stdout",
          "text": [
            "93/93 [==============================] - 0s 4ms/step - loss: 0.4404 - accuracy: 0.9026\n",
            "\n",
            "   categorical_crossentropy  ||   accuracy \n",
            "  ____________________________________\n",
            "[0.44041481614112854, 0.9026128053665161]\n"
          ]
        }
      ]
    },
    {
      "cell_type": "markdown",
      "source": [
        "   2. Defining the Architecture of 2-Layer of LSTM with more hyperparameter tunning"
      ],
      "metadata": {
        "id": "EFsp0FcXV9HG"
      }
    },
    {
      "cell_type": "markdown",
      "source": [
        "#### 2.1 First Model for 2-Layer of LSTM with more hyperparameter tunning"
      ],
      "metadata": {
        "id": "8p4j41aSV_Uv"
      }
    },
    {
      "cell_type": "code",
      "source": [
        "# Initializing parameters\n",
        "n_epochs = 30\n",
        "n_batch = 16\n",
        "n_classes = _count_classes(y_train)\n",
        "\n",
        "# Bias regularizer value - we will use elasticnet\n",
        "reg = L1L2(0.01, 0.01)"
      ],
      "metadata": {
        "id": "O594yNV2WSRj"
      },
      "execution_count": null,
      "outputs": []
    },
    {
      "cell_type": "code",
      "source": [
        "# Model execution\n",
        "model = Sequential()\n",
        "model.add(LSTM(48, input_shape=(timesteps, input_dim), return_sequences=True,bias_regularizer=reg ))\n",
        "model.add(BatchNormalization())\n",
        "model.add(Dropout(0.50))\n",
        "model.add(LSTM(32))\n",
        "model.add(Dropout(0.50))\n",
        "model.add(Dense(n_classes, activation='sigmoid'))\n",
        "print(\"Model Summary: \")\n",
        "model.summary()"
      ],
      "metadata": {
        "colab": {
          "base_uri": "https://localhost:8080/"
        },
        "id": "17yKQHdAWVWs",
        "outputId": "73138216-4bb2-4952-8eb5-0b8797ce6a0a"
      },
      "execution_count": null,
      "outputs": [
        {
          "output_type": "stream",
          "name": "stdout",
          "text": [
            "Model Summary: \n",
            "Model: \"sequential_1\"\n",
            "_________________________________________________________________\n",
            " Layer (type)                Output Shape              Param #   \n",
            "=================================================================\n",
            " lstm_1 (LSTM)               (None, 128, 48)           11136     \n",
            "                                                                 \n",
            " batch_normalization (BatchN  (None, 128, 48)          192       \n",
            " ormalization)                                                   \n",
            "                                                                 \n",
            " dropout_1 (Dropout)         (None, 128, 48)           0         \n",
            "                                                                 \n",
            " lstm_2 (LSTM)               (None, 32)                10368     \n",
            "                                                                 \n",
            " dropout_2 (Dropout)         (None, 32)                0         \n",
            "                                                                 \n",
            " dense_1 (Dense)             (None, 6)                 198       \n",
            "                                                                 \n",
            "=================================================================\n",
            "Total params: 21,894\n",
            "Trainable params: 21,798\n",
            "Non-trainable params: 96\n",
            "_________________________________________________________________\n"
          ]
        }
      ]
    },
    {
      "cell_type": "code",
      "source": [
        "model.compile(loss='categorical_crossentropy', optimizer='adam', metrics=['accuracy'])"
      ],
      "metadata": {
        "id": "HfXE9HTbWYMc"
      },
      "execution_count": null,
      "outputs": []
    },
    {
      "cell_type": "code",
      "source": [
        "# Training the model\n",
        "model.fit(X_train, y_train, batch_size=n_batch, validation_data=(X_test, y_test), epochs=n_epochs)"
      ],
      "metadata": {
        "colab": {
          "base_uri": "https://localhost:8080/"
        },
        "id": "TQxn8R_VWbJA",
        "outputId": "2c847fc9-f3f5-41b5-8787-7d43295ebcac"
      },
      "execution_count": null,
      "outputs": [
        {
          "output_type": "stream",
          "name": "stdout",
          "text": [
            "Epoch 1/30\n",
            "460/460 [==============================] - 12s 17ms/step - loss: 1.5451 - accuracy: 0.6557 - val_loss: 2.1739 - val_accuracy: 0.5616\n",
            "Epoch 2/30\n",
            "460/460 [==============================] - 6s 14ms/step - loss: 0.8112 - accuracy: 0.8226 - val_loss: 0.5294 - val_accuracy: 0.8802\n",
            "Epoch 3/30\n",
            "460/460 [==============================] - 7s 15ms/step - loss: 0.4346 - accuracy: 0.8973 - val_loss: 0.3874 - val_accuracy: 0.8609\n",
            "Epoch 4/30\n",
            "460/460 [==============================] - 6s 14ms/step - loss: 0.2517 - accuracy: 0.9238 - val_loss: 0.2453 - val_accuracy: 0.9145\n",
            "Epoch 5/30\n",
            "460/460 [==============================] - 7s 16ms/step - loss: 0.2279 - accuracy: 0.9260 - val_loss: 0.2249 - val_accuracy: 0.9104\n",
            "Epoch 6/30\n",
            "460/460 [==============================] - 7s 14ms/step - loss: 0.2111 - accuracy: 0.9305 - val_loss: 0.2056 - val_accuracy: 0.9264\n",
            "Epoch 7/30\n",
            "460/460 [==============================] - 7s 16ms/step - loss: 0.1842 - accuracy: 0.9370 - val_loss: 0.2080 - val_accuracy: 0.9311\n",
            "Epoch 8/30\n",
            "460/460 [==============================] - 6s 13ms/step - loss: 0.1836 - accuracy: 0.9357 - val_loss: 0.1840 - val_accuracy: 0.9287\n",
            "Epoch 9/30\n",
            "460/460 [==============================] - 7s 15ms/step - loss: 0.1808 - accuracy: 0.9362 - val_loss: 0.1965 - val_accuracy: 0.9301\n",
            "Epoch 10/30\n",
            "460/460 [==============================] - 6s 13ms/step - loss: 0.1758 - accuracy: 0.9382 - val_loss: 0.1990 - val_accuracy: 0.9264\n",
            "Epoch 11/30\n",
            "460/460 [==============================] - 7s 15ms/step - loss: 0.1538 - accuracy: 0.9429 - val_loss: 0.2170 - val_accuracy: 0.9162\n",
            "Epoch 12/30\n",
            "460/460 [==============================] - 8s 16ms/step - loss: 0.1587 - accuracy: 0.9423 - val_loss: 0.2517 - val_accuracy: 0.9155\n",
            "Epoch 13/30\n",
            "460/460 [==============================] - 7s 16ms/step - loss: 0.1637 - accuracy: 0.9361 - val_loss: 0.2496 - val_accuracy: 0.9243\n",
            "Epoch 14/30\n",
            "460/460 [==============================] - 6s 14ms/step - loss: 0.1714 - accuracy: 0.9377 - val_loss: 0.2312 - val_accuracy: 0.9172\n",
            "Epoch 15/30\n",
            "460/460 [==============================] - 7s 16ms/step - loss: 0.1566 - accuracy: 0.9407 - val_loss: 0.2240 - val_accuracy: 0.9274\n",
            "Epoch 16/30\n",
            "460/460 [==============================] - 6s 14ms/step - loss: 0.1453 - accuracy: 0.9442 - val_loss: 0.2389 - val_accuracy: 0.9240\n",
            "Epoch 17/30\n",
            "460/460 [==============================] - 7s 16ms/step - loss: 0.1310 - accuracy: 0.9457 - val_loss: 0.2459 - val_accuracy: 0.9152\n",
            "Epoch 18/30\n",
            "460/460 [==============================] - 8s 17ms/step - loss: 0.1582 - accuracy: 0.9425 - val_loss: 0.2493 - val_accuracy: 0.9209\n",
            "Epoch 19/30\n",
            "460/460 [==============================] - 6s 14ms/step - loss: 0.1514 - accuracy: 0.9415 - val_loss: 0.2946 - val_accuracy: 0.9196\n",
            "Epoch 20/30\n",
            "460/460 [==============================] - 7s 15ms/step - loss: 0.1514 - accuracy: 0.9419 - val_loss: 0.4925 - val_accuracy: 0.8476\n",
            "Epoch 21/30\n",
            "460/460 [==============================] - 6s 14ms/step - loss: 0.1612 - accuracy: 0.9406 - val_loss: 0.2780 - val_accuracy: 0.9057\n",
            "Epoch 22/30\n",
            "460/460 [==============================] - 7s 15ms/step - loss: 0.1515 - accuracy: 0.9408 - val_loss: 0.2060 - val_accuracy: 0.9223\n",
            "Epoch 23/30\n",
            "460/460 [==============================] - 7s 15ms/step - loss: 0.1277 - accuracy: 0.9489 - val_loss: 0.2200 - val_accuracy: 0.9179\n",
            "Epoch 24/30\n",
            "460/460 [==============================] - 8s 18ms/step - loss: 0.1368 - accuracy: 0.9467 - val_loss: 0.3797 - val_accuracy: 0.9108\n",
            "Epoch 25/30\n",
            "460/460 [==============================] - 7s 15ms/step - loss: 0.1472 - accuracy: 0.9436 - val_loss: 0.1896 - val_accuracy: 0.9318\n",
            "Epoch 26/30\n",
            "460/460 [==============================] - 7s 15ms/step - loss: 0.1318 - accuracy: 0.9475 - val_loss: 0.1966 - val_accuracy: 0.9301\n",
            "Epoch 27/30\n",
            "460/460 [==============================] - 7s 14ms/step - loss: 0.1286 - accuracy: 0.9489 - val_loss: 0.3387 - val_accuracy: 0.9084\n",
            "Epoch 28/30\n",
            "460/460 [==============================] - 7s 15ms/step - loss: 0.1513 - accuracy: 0.9430 - val_loss: 0.3045 - val_accuracy: 0.9094\n",
            "Epoch 29/30\n",
            "460/460 [==============================] - 6s 14ms/step - loss: 0.1440 - accuracy: 0.9441 - val_loss: 0.3635 - val_accuracy: 0.9101\n",
            "Epoch 30/30\n",
            "460/460 [==============================] - 8s 18ms/step - loss: 0.1319 - accuracy: 0.9468 - val_loss: 0.2493 - val_accuracy: 0.9237\n"
          ]
        },
        {
          "output_type": "execute_result",
          "data": {
            "text/plain": [
              "<keras.callbacks.History at 0x7f390ad22c70>"
            ]
          },
          "metadata": {},
          "execution_count": 21
        }
      ]
    },
    {
      "cell_type": "code",
      "source": [
        "# Confusion Matrix\n",
        "confusion_matrix(y_test, model.predict(X_test))"
      ],
      "metadata": {
        "colab": {
          "base_uri": "https://localhost:8080/",
          "height": 286
        },
        "id": "abLtI6JsWeM1",
        "outputId": "b8b6916b-2d3e-4a8e-b2d3-89ef4ddda2f4"
      },
      "execution_count": null,
      "outputs": [
        {
          "output_type": "stream",
          "name": "stdout",
          "text": [
            "93/93 [==============================] - 1s 5ms/step\n"
          ]
        },
        {
          "output_type": "execute_result",
          "data": {
            "text/plain": [
              "Pred                LAYING  SITTING  STANDING  WALKING  WALKING_DOWNSTAIRS  \\\n",
              "True                                                                         \n",
              "LAYING                 536        0         1        0                   0   \n",
              "SITTING                  0      417        72        0                   0   \n",
              "STANDING                 0      108       424        0                   0   \n",
              "WALKING                  0        0         2      480                  13   \n",
              "WALKING_DOWNSTAIRS       0        0         0        0                 419   \n",
              "WALKING_UPSTAIRS         0        0         0       17                   8   \n",
              "\n",
              "Pred                WALKING_UPSTAIRS  \n",
              "True                                  \n",
              "LAYING                             0  \n",
              "SITTING                            2  \n",
              "STANDING                           0  \n",
              "WALKING                            1  \n",
              "WALKING_DOWNSTAIRS                 1  \n",
              "WALKING_UPSTAIRS                 446  "
            ],
            "text/html": [
              "\n",
              "  <div id=\"df-28e694ce-101f-4d66-9d04-c20c64d3db72\">\n",
              "    <div class=\"colab-df-container\">\n",
              "      <div>\n",
              "<style scoped>\n",
              "    .dataframe tbody tr th:only-of-type {\n",
              "        vertical-align: middle;\n",
              "    }\n",
              "\n",
              "    .dataframe tbody tr th {\n",
              "        vertical-align: top;\n",
              "    }\n",
              "\n",
              "    .dataframe thead th {\n",
              "        text-align: right;\n",
              "    }\n",
              "</style>\n",
              "<table border=\"1\" class=\"dataframe\">\n",
              "  <thead>\n",
              "    <tr style=\"text-align: right;\">\n",
              "      <th>Pred</th>\n",
              "      <th>LAYING</th>\n",
              "      <th>SITTING</th>\n",
              "      <th>STANDING</th>\n",
              "      <th>WALKING</th>\n",
              "      <th>WALKING_DOWNSTAIRS</th>\n",
              "      <th>WALKING_UPSTAIRS</th>\n",
              "    </tr>\n",
              "    <tr>\n",
              "      <th>True</th>\n",
              "      <th></th>\n",
              "      <th></th>\n",
              "      <th></th>\n",
              "      <th></th>\n",
              "      <th></th>\n",
              "      <th></th>\n",
              "    </tr>\n",
              "  </thead>\n",
              "  <tbody>\n",
              "    <tr>\n",
              "      <th>LAYING</th>\n",
              "      <td>536</td>\n",
              "      <td>0</td>\n",
              "      <td>1</td>\n",
              "      <td>0</td>\n",
              "      <td>0</td>\n",
              "      <td>0</td>\n",
              "    </tr>\n",
              "    <tr>\n",
              "      <th>SITTING</th>\n",
              "      <td>0</td>\n",
              "      <td>417</td>\n",
              "      <td>72</td>\n",
              "      <td>0</td>\n",
              "      <td>0</td>\n",
              "      <td>2</td>\n",
              "    </tr>\n",
              "    <tr>\n",
              "      <th>STANDING</th>\n",
              "      <td>0</td>\n",
              "      <td>108</td>\n",
              "      <td>424</td>\n",
              "      <td>0</td>\n",
              "      <td>0</td>\n",
              "      <td>0</td>\n",
              "    </tr>\n",
              "    <tr>\n",
              "      <th>WALKING</th>\n",
              "      <td>0</td>\n",
              "      <td>0</td>\n",
              "      <td>2</td>\n",
              "      <td>480</td>\n",
              "      <td>13</td>\n",
              "      <td>1</td>\n",
              "    </tr>\n",
              "    <tr>\n",
              "      <th>WALKING_DOWNSTAIRS</th>\n",
              "      <td>0</td>\n",
              "      <td>0</td>\n",
              "      <td>0</td>\n",
              "      <td>0</td>\n",
              "      <td>419</td>\n",
              "      <td>1</td>\n",
              "    </tr>\n",
              "    <tr>\n",
              "      <th>WALKING_UPSTAIRS</th>\n",
              "      <td>0</td>\n",
              "      <td>0</td>\n",
              "      <td>0</td>\n",
              "      <td>17</td>\n",
              "      <td>8</td>\n",
              "      <td>446</td>\n",
              "    </tr>\n",
              "  </tbody>\n",
              "</table>\n",
              "</div>\n",
              "      <button class=\"colab-df-convert\" onclick=\"convertToInteractive('df-28e694ce-101f-4d66-9d04-c20c64d3db72')\"\n",
              "              title=\"Convert this dataframe to an interactive table.\"\n",
              "              style=\"display:none;\">\n",
              "        \n",
              "  <svg xmlns=\"http://www.w3.org/2000/svg\" height=\"24px\"viewBox=\"0 0 24 24\"\n",
              "       width=\"24px\">\n",
              "    <path d=\"M0 0h24v24H0V0z\" fill=\"none\"/>\n",
              "    <path d=\"M18.56 5.44l.94 2.06.94-2.06 2.06-.94-2.06-.94-.94-2.06-.94 2.06-2.06.94zm-11 1L8.5 8.5l.94-2.06 2.06-.94-2.06-.94L8.5 2.5l-.94 2.06-2.06.94zm10 10l.94 2.06.94-2.06 2.06-.94-2.06-.94-.94-2.06-.94 2.06-2.06.94z\"/><path d=\"M17.41 7.96l-1.37-1.37c-.4-.4-.92-.59-1.43-.59-.52 0-1.04.2-1.43.59L10.3 9.45l-7.72 7.72c-.78.78-.78 2.05 0 2.83L4 21.41c.39.39.9.59 1.41.59.51 0 1.02-.2 1.41-.59l7.78-7.78 2.81-2.81c.8-.78.8-2.07 0-2.86zM5.41 20L4 18.59l7.72-7.72 1.47 1.35L5.41 20z\"/>\n",
              "  </svg>\n",
              "      </button>\n",
              "      \n",
              "  <style>\n",
              "    .colab-df-container {\n",
              "      display:flex;\n",
              "      flex-wrap:wrap;\n",
              "      gap: 12px;\n",
              "    }\n",
              "\n",
              "    .colab-df-convert {\n",
              "      background-color: #E8F0FE;\n",
              "      border: none;\n",
              "      border-radius: 50%;\n",
              "      cursor: pointer;\n",
              "      display: none;\n",
              "      fill: #1967D2;\n",
              "      height: 32px;\n",
              "      padding: 0 0 0 0;\n",
              "      width: 32px;\n",
              "    }\n",
              "\n",
              "    .colab-df-convert:hover {\n",
              "      background-color: #E2EBFA;\n",
              "      box-shadow: 0px 1px 2px rgba(60, 64, 67, 0.3), 0px 1px 3px 1px rgba(60, 64, 67, 0.15);\n",
              "      fill: #174EA6;\n",
              "    }\n",
              "\n",
              "    [theme=dark] .colab-df-convert {\n",
              "      background-color: #3B4455;\n",
              "      fill: #D2E3FC;\n",
              "    }\n",
              "\n",
              "    [theme=dark] .colab-df-convert:hover {\n",
              "      background-color: #434B5C;\n",
              "      box-shadow: 0px 1px 3px 1px rgba(0, 0, 0, 0.15);\n",
              "      filter: drop-shadow(0px 1px 2px rgba(0, 0, 0, 0.3));\n",
              "      fill: #FFFFFF;\n",
              "    }\n",
              "  </style>\n",
              "\n",
              "      <script>\n",
              "        const buttonEl =\n",
              "          document.querySelector('#df-28e694ce-101f-4d66-9d04-c20c64d3db72 button.colab-df-convert');\n",
              "        buttonEl.style.display =\n",
              "          google.colab.kernel.accessAllowed ? 'block' : 'none';\n",
              "\n",
              "        async function convertToInteractive(key) {\n",
              "          const element = document.querySelector('#df-28e694ce-101f-4d66-9d04-c20c64d3db72');\n",
              "          const dataTable =\n",
              "            await google.colab.kernel.invokeFunction('convertToInteractive',\n",
              "                                                     [key], {});\n",
              "          if (!dataTable) return;\n",
              "\n",
              "          const docLinkHtml = 'Like what you see? Visit the ' +\n",
              "            '<a target=\"_blank\" href=https://colab.research.google.com/notebooks/data_table.ipynb>data table notebook</a>'\n",
              "            + ' to learn more about interactive tables.';\n",
              "          element.innerHTML = '';\n",
              "          dataTable['output_type'] = 'display_data';\n",
              "          await google.colab.output.renderOutput(dataTable, element);\n",
              "          const docLink = document.createElement('div');\n",
              "          docLink.innerHTML = docLinkHtml;\n",
              "          element.appendChild(docLink);\n",
              "        }\n",
              "      </script>\n",
              "    </div>\n",
              "  </div>\n",
              "  "
            ]
          },
          "metadata": {},
          "execution_count": 22
        }
      ]
    },
    {
      "cell_type": "code",
      "source": [
        "score = model.evaluate(X_test, y_test)\n",
        "\n",
        "print(\"\\n   categorica_crossentropy  ||   accuracy \")\n",
        "print(\"  ____________________________________\")\n",
        "print(score)"
      ],
      "metadata": {
        "colab": {
          "base_uri": "https://localhost:8080/"
        },
        "id": "sYNMpcu_WjB-",
        "outputId": "43a40c55-1ea5-4a0a-c505-6e9b7324c231"
      },
      "execution_count": null,
      "outputs": [
        {
          "output_type": "stream",
          "name": "stdout",
          "text": [
            "93/93 [==============================] - 1s 6ms/step - loss: 0.2493 - accuracy: 0.9237\n",
            "\n",
            "   categorica_crossentropy  ||   accuracy \n",
            "  ____________________________________\n",
            "[0.24925614893436432, 0.9236511588096619]\n"
          ]
        }
      ]
    },
    {
      "cell_type": "markdown",
      "source": [
        "#### 2.2 Second Model for 2-Layer of LSTM with more hyperparameter tunning"
      ],
      "metadata": {
        "id": "gPw5BDcNWocp"
      }
    },
    {
      "cell_type": "code",
      "source": [
        "# Model execution\n",
        "model = Sequential()\n",
        "model.add(LSTM(64, input_shape=(timesteps, input_dim), return_sequences=True, bias_regularizer=reg))\n",
        "model.add(BatchNormalization())\n",
        "model.add(Dropout(0.50))\n",
        "model.add(LSTM(48))\n",
        "model.add(Dropout(0.50))\n",
        "model.add(Dense(n_classes, activation='sigmoid'))\n",
        "print(\"Model Summary: \")\n",
        "model.summary()"
      ],
      "metadata": {
        "colab": {
          "base_uri": "https://localhost:8080/"
        },
        "id": "KgIyrMM0WsEY",
        "outputId": "af27a3b7-d1c5-458f-d0e0-140359e7c9f3"
      },
      "execution_count": null,
      "outputs": [
        {
          "output_type": "stream",
          "name": "stdout",
          "text": [
            "Model Summary: \n",
            "Model: \"sequential_2\"\n",
            "_________________________________________________________________\n",
            " Layer (type)                Output Shape              Param #   \n",
            "=================================================================\n",
            " lstm_3 (LSTM)               (None, 128, 64)           18944     \n",
            "                                                                 \n",
            " batch_normalization_1 (Batc  (None, 128, 64)          256       \n",
            " hNormalization)                                                 \n",
            "                                                                 \n",
            " dropout_3 (Dropout)         (None, 128, 64)           0         \n",
            "                                                                 \n",
            " lstm_4 (LSTM)               (None, 48)                21696     \n",
            "                                                                 \n",
            " dropout_4 (Dropout)         (None, 48)                0         \n",
            "                                                                 \n",
            " dense_2 (Dense)             (None, 6)                 294       \n",
            "                                                                 \n",
            "=================================================================\n",
            "Total params: 41,190\n",
            "Trainable params: 41,062\n",
            "Non-trainable params: 128\n",
            "_________________________________________________________________\n"
          ]
        }
      ]
    },
    {
      "cell_type": "code",
      "source": [
        "model.compile(loss='categorical_crossentropy', optimizer='adam', metrics=['accuracy'])"
      ],
      "metadata": {
        "id": "cJ4wvkh5WycW"
      },
      "execution_count": null,
      "outputs": []
    },
    {
      "cell_type": "code",
      "source": [
        "# Training the model\n",
        "model.fit(X_train, y_train, batch_size=n_batch, validation_data=(X_test, y_test), epochs=n_epochs)"
      ],
      "metadata": {
        "colab": {
          "base_uri": "https://localhost:8080/"
        },
        "id": "VKrGoJiuW3tK",
        "outputId": "927e240a-61aa-400f-90e6-83cac395eb0a"
      },
      "execution_count": null,
      "outputs": [
        {
          "output_type": "stream",
          "name": "stdout",
          "text": [
            "Epoch 1/30\n",
            "460/460 [==============================] - 12s 17ms/step - loss: 1.6609 - accuracy: 0.7193 - val_loss: 1.4947 - val_accuracy: 0.7184\n",
            "Epoch 2/30\n",
            "460/460 [==============================] - 7s 14ms/step - loss: 0.9068 - accuracy: 0.8592 - val_loss: 0.7450 - val_accuracy: 0.8850\n",
            "Epoch 3/30\n",
            "460/460 [==============================] - 7s 15ms/step - loss: 0.6648 - accuracy: 0.9027 - val_loss: 0.5959 - val_accuracy: 0.9067\n",
            "Epoch 4/30\n",
            "460/460 [==============================] - 6s 13ms/step - loss: 0.5454 - accuracy: 0.9222 - val_loss: 0.5312 - val_accuracy: 0.9013\n",
            "Epoch 5/30\n",
            "460/460 [==============================] - 9s 19ms/step - loss: 0.4857 - accuracy: 0.9202 - val_loss: 0.4506 - val_accuracy: 0.9084\n",
            "Epoch 6/30\n",
            "460/460 [==============================] - 6s 14ms/step - loss: 0.4066 - accuracy: 0.9266 - val_loss: 0.4097 - val_accuracy: 0.9118\n",
            "Epoch 7/30\n",
            "460/460 [==============================] - 7s 15ms/step - loss: 0.3503 - accuracy: 0.9293 - val_loss: 0.4718 - val_accuracy: 0.8992\n",
            "Epoch 8/30\n",
            "460/460 [==============================] - 6s 13ms/step - loss: 0.3173 - accuracy: 0.9308 - val_loss: 0.6012 - val_accuracy: 0.8493\n",
            "Epoch 9/30\n",
            "460/460 [==============================] - 7s 15ms/step - loss: 0.2743 - accuracy: 0.9332 - val_loss: 0.3544 - val_accuracy: 0.9101\n",
            "Epoch 10/30\n",
            "460/460 [==============================] - 6s 13ms/step - loss: 0.2428 - accuracy: 0.9350 - val_loss: 0.3036 - val_accuracy: 0.9213\n",
            "Epoch 11/30\n",
            "460/460 [==============================] - 8s 18ms/step - loss: 0.2268 - accuracy: 0.9334 - val_loss: 0.2770 - val_accuracy: 0.9084\n",
            "Epoch 12/30\n",
            "460/460 [==============================] - 6s 14ms/step - loss: 0.2162 - accuracy: 0.9332 - val_loss: 0.2633 - val_accuracy: 0.9182\n",
            "Epoch 13/30\n",
            "460/460 [==============================] - 6s 14ms/step - loss: 0.1831 - accuracy: 0.9378 - val_loss: 0.2875 - val_accuracy: 0.9152\n",
            "Epoch 14/30\n",
            "460/460 [==============================] - 6s 13ms/step - loss: 0.1581 - accuracy: 0.9471 - val_loss: 0.3120 - val_accuracy: 0.9158\n",
            "Epoch 15/30\n",
            "460/460 [==============================] - 6s 13ms/step - loss: 0.1564 - accuracy: 0.9425 - val_loss: 0.3423 - val_accuracy: 0.9030\n",
            "Epoch 16/30\n",
            "460/460 [==============================] - 7s 15ms/step - loss: 0.1530 - accuracy: 0.9410 - val_loss: 0.2851 - val_accuracy: 0.9114\n",
            "Epoch 17/30\n",
            "460/460 [==============================] - 6s 14ms/step - loss: 0.1515 - accuracy: 0.9426 - val_loss: 0.3362 - val_accuracy: 0.8901\n",
            "Epoch 18/30\n",
            "460/460 [==============================] - 9s 19ms/step - loss: 0.1504 - accuracy: 0.9419 - val_loss: 0.4252 - val_accuracy: 0.8999\n",
            "Epoch 19/30\n",
            "460/460 [==============================] - 6s 13ms/step - loss: 0.1350 - accuracy: 0.9467 - val_loss: 0.3056 - val_accuracy: 0.9216\n",
            "Epoch 20/30\n",
            "460/460 [==============================] - 7s 15ms/step - loss: 0.2763 - accuracy: 0.9161 - val_loss: 0.4612 - val_accuracy: 0.8358\n",
            "Epoch 21/30\n",
            "460/460 [==============================] - 6s 13ms/step - loss: 0.1950 - accuracy: 0.9256 - val_loss: 0.3112 - val_accuracy: 0.9111\n",
            "Epoch 22/30\n",
            "460/460 [==============================] - 7s 15ms/step - loss: 0.1682 - accuracy: 0.9350 - val_loss: 0.2452 - val_accuracy: 0.9192\n",
            "Epoch 23/30\n",
            "460/460 [==============================] - 6s 13ms/step - loss: 0.1475 - accuracy: 0.9434 - val_loss: 0.4120 - val_accuracy: 0.8975\n",
            "Epoch 24/30\n",
            "460/460 [==============================] - 8s 17ms/step - loss: 0.1542 - accuracy: 0.9426 - val_loss: 0.2812 - val_accuracy: 0.9172\n",
            "Epoch 25/30\n",
            "460/460 [==============================] - 6s 13ms/step - loss: 0.1366 - accuracy: 0.9472 - val_loss: 0.2727 - val_accuracy: 0.9209\n",
            "Epoch 26/30\n",
            "460/460 [==============================] - 7s 15ms/step - loss: 0.1310 - accuracy: 0.9467 - val_loss: 0.2712 - val_accuracy: 0.9186\n",
            "Epoch 27/30\n",
            "460/460 [==============================] - 8s 18ms/step - loss: 0.1337 - accuracy: 0.9460 - val_loss: 0.2599 - val_accuracy: 0.9172\n",
            "Epoch 28/30\n",
            "460/460 [==============================] - 8s 18ms/step - loss: 0.2164 - accuracy: 0.9317 - val_loss: 0.2621 - val_accuracy: 0.9270\n",
            "Epoch 29/30\n",
            "460/460 [==============================] - 6s 14ms/step - loss: 0.1663 - accuracy: 0.9436 - val_loss: 0.2653 - val_accuracy: 0.9216\n",
            "Epoch 30/30\n",
            "460/460 [==============================] - 8s 16ms/step - loss: 0.1366 - accuracy: 0.9453 - val_loss: 0.2195 - val_accuracy: 0.9277\n"
          ]
        },
        {
          "output_type": "execute_result",
          "data": {
            "text/plain": [
              "<keras.callbacks.History at 0x7f3909a304c0>"
            ]
          },
          "metadata": {},
          "execution_count": 26
        }
      ]
    },
    {
      "cell_type": "code",
      "source": [
        "# Confusion Matrix\n",
        "confusion_matrix(y_test, model.predict(X_test))"
      ],
      "metadata": {
        "colab": {
          "base_uri": "https://localhost:8080/",
          "height": 286
        },
        "id": "65v6IGSdW66a",
        "outputId": "72dd654c-c475-4e0b-d7ff-4b0a1cc73514"
      },
      "execution_count": null,
      "outputs": [
        {
          "output_type": "stream",
          "name": "stdout",
          "text": [
            "93/93 [==============================] - 1s 6ms/step\n"
          ]
        },
        {
          "output_type": "execute_result",
          "data": {
            "text/plain": [
              "Pred                LAYING  SITTING  STANDING  WALKING  WALKING_DOWNSTAIRS  \\\n",
              "True                                                                         \n",
              "LAYING                 537        0         0        0                   0   \n",
              "SITTING                  7      396        86        0                   0   \n",
              "STANDING                 0       85       447        0                   0   \n",
              "WALKING                  0        0         0      487                   2   \n",
              "WALKING_DOWNSTAIRS       0        0         0        0                 418   \n",
              "WALKING_UPSTAIRS         0        0         0        0                  22   \n",
              "\n",
              "Pred                WALKING_UPSTAIRS  \n",
              "True                                  \n",
              "LAYING                             0  \n",
              "SITTING                            2  \n",
              "STANDING                           0  \n",
              "WALKING                            7  \n",
              "WALKING_DOWNSTAIRS                 2  \n",
              "WALKING_UPSTAIRS                 449  "
            ],
            "text/html": [
              "\n",
              "  <div id=\"df-c89fca12-3416-4545-93a4-95e5c0f32193\">\n",
              "    <div class=\"colab-df-container\">\n",
              "      <div>\n",
              "<style scoped>\n",
              "    .dataframe tbody tr th:only-of-type {\n",
              "        vertical-align: middle;\n",
              "    }\n",
              "\n",
              "    .dataframe tbody tr th {\n",
              "        vertical-align: top;\n",
              "    }\n",
              "\n",
              "    .dataframe thead th {\n",
              "        text-align: right;\n",
              "    }\n",
              "</style>\n",
              "<table border=\"1\" class=\"dataframe\">\n",
              "  <thead>\n",
              "    <tr style=\"text-align: right;\">\n",
              "      <th>Pred</th>\n",
              "      <th>LAYING</th>\n",
              "      <th>SITTING</th>\n",
              "      <th>STANDING</th>\n",
              "      <th>WALKING</th>\n",
              "      <th>WALKING_DOWNSTAIRS</th>\n",
              "      <th>WALKING_UPSTAIRS</th>\n",
              "    </tr>\n",
              "    <tr>\n",
              "      <th>True</th>\n",
              "      <th></th>\n",
              "      <th></th>\n",
              "      <th></th>\n",
              "      <th></th>\n",
              "      <th></th>\n",
              "      <th></th>\n",
              "    </tr>\n",
              "  </thead>\n",
              "  <tbody>\n",
              "    <tr>\n",
              "      <th>LAYING</th>\n",
              "      <td>537</td>\n",
              "      <td>0</td>\n",
              "      <td>0</td>\n",
              "      <td>0</td>\n",
              "      <td>0</td>\n",
              "      <td>0</td>\n",
              "    </tr>\n",
              "    <tr>\n",
              "      <th>SITTING</th>\n",
              "      <td>7</td>\n",
              "      <td>396</td>\n",
              "      <td>86</td>\n",
              "      <td>0</td>\n",
              "      <td>0</td>\n",
              "      <td>2</td>\n",
              "    </tr>\n",
              "    <tr>\n",
              "      <th>STANDING</th>\n",
              "      <td>0</td>\n",
              "      <td>85</td>\n",
              "      <td>447</td>\n",
              "      <td>0</td>\n",
              "      <td>0</td>\n",
              "      <td>0</td>\n",
              "    </tr>\n",
              "    <tr>\n",
              "      <th>WALKING</th>\n",
              "      <td>0</td>\n",
              "      <td>0</td>\n",
              "      <td>0</td>\n",
              "      <td>487</td>\n",
              "      <td>2</td>\n",
              "      <td>7</td>\n",
              "    </tr>\n",
              "    <tr>\n",
              "      <th>WALKING_DOWNSTAIRS</th>\n",
              "      <td>0</td>\n",
              "      <td>0</td>\n",
              "      <td>0</td>\n",
              "      <td>0</td>\n",
              "      <td>418</td>\n",
              "      <td>2</td>\n",
              "    </tr>\n",
              "    <tr>\n",
              "      <th>WALKING_UPSTAIRS</th>\n",
              "      <td>0</td>\n",
              "      <td>0</td>\n",
              "      <td>0</td>\n",
              "      <td>0</td>\n",
              "      <td>22</td>\n",
              "      <td>449</td>\n",
              "    </tr>\n",
              "  </tbody>\n",
              "</table>\n",
              "</div>\n",
              "      <button class=\"colab-df-convert\" onclick=\"convertToInteractive('df-c89fca12-3416-4545-93a4-95e5c0f32193')\"\n",
              "              title=\"Convert this dataframe to an interactive table.\"\n",
              "              style=\"display:none;\">\n",
              "        \n",
              "  <svg xmlns=\"http://www.w3.org/2000/svg\" height=\"24px\"viewBox=\"0 0 24 24\"\n",
              "       width=\"24px\">\n",
              "    <path d=\"M0 0h24v24H0V0z\" fill=\"none\"/>\n",
              "    <path d=\"M18.56 5.44l.94 2.06.94-2.06 2.06-.94-2.06-.94-.94-2.06-.94 2.06-2.06.94zm-11 1L8.5 8.5l.94-2.06 2.06-.94-2.06-.94L8.5 2.5l-.94 2.06-2.06.94zm10 10l.94 2.06.94-2.06 2.06-.94-2.06-.94-.94-2.06-.94 2.06-2.06.94z\"/><path d=\"M17.41 7.96l-1.37-1.37c-.4-.4-.92-.59-1.43-.59-.52 0-1.04.2-1.43.59L10.3 9.45l-7.72 7.72c-.78.78-.78 2.05 0 2.83L4 21.41c.39.39.9.59 1.41.59.51 0 1.02-.2 1.41-.59l7.78-7.78 2.81-2.81c.8-.78.8-2.07 0-2.86zM5.41 20L4 18.59l7.72-7.72 1.47 1.35L5.41 20z\"/>\n",
              "  </svg>\n",
              "      </button>\n",
              "      \n",
              "  <style>\n",
              "    .colab-df-container {\n",
              "      display:flex;\n",
              "      flex-wrap:wrap;\n",
              "      gap: 12px;\n",
              "    }\n",
              "\n",
              "    .colab-df-convert {\n",
              "      background-color: #E8F0FE;\n",
              "      border: none;\n",
              "      border-radius: 50%;\n",
              "      cursor: pointer;\n",
              "      display: none;\n",
              "      fill: #1967D2;\n",
              "      height: 32px;\n",
              "      padding: 0 0 0 0;\n",
              "      width: 32px;\n",
              "    }\n",
              "\n",
              "    .colab-df-convert:hover {\n",
              "      background-color: #E2EBFA;\n",
              "      box-shadow: 0px 1px 2px rgba(60, 64, 67, 0.3), 0px 1px 3px 1px rgba(60, 64, 67, 0.15);\n",
              "      fill: #174EA6;\n",
              "    }\n",
              "\n",
              "    [theme=dark] .colab-df-convert {\n",
              "      background-color: #3B4455;\n",
              "      fill: #D2E3FC;\n",
              "    }\n",
              "\n",
              "    [theme=dark] .colab-df-convert:hover {\n",
              "      background-color: #434B5C;\n",
              "      box-shadow: 0px 1px 3px 1px rgba(0, 0, 0, 0.15);\n",
              "      filter: drop-shadow(0px 1px 2px rgba(0, 0, 0, 0.3));\n",
              "      fill: #FFFFFF;\n",
              "    }\n",
              "  </style>\n",
              "\n",
              "      <script>\n",
              "        const buttonEl =\n",
              "          document.querySelector('#df-c89fca12-3416-4545-93a4-95e5c0f32193 button.colab-df-convert');\n",
              "        buttonEl.style.display =\n",
              "          google.colab.kernel.accessAllowed ? 'block' : 'none';\n",
              "\n",
              "        async function convertToInteractive(key) {\n",
              "          const element = document.querySelector('#df-c89fca12-3416-4545-93a4-95e5c0f32193');\n",
              "          const dataTable =\n",
              "            await google.colab.kernel.invokeFunction('convertToInteractive',\n",
              "                                                     [key], {});\n",
              "          if (!dataTable) return;\n",
              "\n",
              "          const docLinkHtml = 'Like what you see? Visit the ' +\n",
              "            '<a target=\"_blank\" href=https://colab.research.google.com/notebooks/data_table.ipynb>data table notebook</a>'\n",
              "            + ' to learn more about interactive tables.';\n",
              "          element.innerHTML = '';\n",
              "          dataTable['output_type'] = 'display_data';\n",
              "          await google.colab.output.renderOutput(dataTable, element);\n",
              "          const docLink = document.createElement('div');\n",
              "          docLink.innerHTML = docLinkHtml;\n",
              "          element.appendChild(docLink);\n",
              "        }\n",
              "      </script>\n",
              "    </div>\n",
              "  </div>\n",
              "  "
            ]
          },
          "metadata": {},
          "execution_count": 27
        }
      ]
    },
    {
      "cell_type": "code",
      "source": [
        "score = model.evaluate(X_test, y_test)\n",
        "\n",
        "print(\"\\n   categorical_crossentropy  ||   accuracy \")\n",
        "print(\"  ____________________________________\")\n",
        "print(score)"
      ],
      "metadata": {
        "colab": {
          "base_uri": "https://localhost:8080/"
        },
        "id": "N7i84QfGW9Er",
        "outputId": "8c930f5e-426a-4c0e-9e22-9b7abd7f9a31"
      },
      "execution_count": null,
      "outputs": [
        {
          "output_type": "stream",
          "name": "stdout",
          "text": [
            "93/93 [==============================] - 1s 8ms/step - loss: 0.2195 - accuracy: 0.9277\n",
            "\n",
            "   categorical_crossentropy  ||   accuracy \n",
            "  ____________________________________\n",
            "[0.21945692598819733, 0.9277231097221375]\n"
          ]
        }
      ]
    },
    {
      "cell_type": "code",
      "source": [
        "model.save(\"lstm_model.h5\")"
      ],
      "metadata": {
        "id": "goUdILrzbI44"
      },
      "execution_count": null,
      "outputs": []
    },
    {
      "cell_type": "code",
      "source": [
        "# Load the LSTM model\n",
        "from tensorflow.keras.models import load_model\n",
        "model_1 = load_model('lstm_model.h5')\n",
        "\n",
        "# Preprocess and prepare the input data\n",
        "import numpy as np\n",
        "data = np.load('input_data.npy')\n",
        "data = preprocess_data(data)\n",
        "\n",
        "# Convert the input data into a sequence format\n",
        "seq_length = 10 # length of input sequence\n",
        "num_features = 3 # number of input features\n",
        "data_seq = []\n",
        "for i in range(seq_length, len(data)):\n",
        "    data_seq.append(data[i-seq_length:i, :])\n",
        "\n",
        "# Feed the input data into the model\n",
        "data_seq = np.array(data_seq)\n",
        "output_seq = model.predict(data_seq)\n",
        "# Display the output to the user\n",
        "import matplotlib.pyplot as plt\n",
        "plt.plot(output_seq)\n",
        "plt.show()\n"
      ],
      "metadata": {
        "colab": {
          "base_uri": "https://localhost:8080/",
          "height": 374
        },
        "id": "Z-kGxoi2Yr82",
        "outputId": "84953bb5-8ea5-48da-b4d7-533c79cd1cea"
      },
      "execution_count": null,
      "outputs": [
        {
          "output_type": "error",
          "ename": "FileNotFoundError",
          "evalue": "ignored",
          "traceback": [
            "\u001b[0;31m---------------------------------------------------------------------------\u001b[0m",
            "\u001b[0;31mFileNotFoundError\u001b[0m                         Traceback (most recent call last)",
            "\u001b[0;32m<ipython-input-34-445eb913d151>\u001b[0m in \u001b[0;36m<module>\u001b[0;34m\u001b[0m\n\u001b[1;32m      5\u001b[0m \u001b[0;31m# Preprocess and prepare the input data\u001b[0m\u001b[0;34m\u001b[0m\u001b[0;34m\u001b[0m\u001b[0m\n\u001b[1;32m      6\u001b[0m \u001b[0;32mimport\u001b[0m \u001b[0mnumpy\u001b[0m \u001b[0;32mas\u001b[0m \u001b[0mnp\u001b[0m\u001b[0;34m\u001b[0m\u001b[0;34m\u001b[0m\u001b[0m\n\u001b[0;32m----> 7\u001b[0;31m \u001b[0mdata\u001b[0m \u001b[0;34m=\u001b[0m \u001b[0mnp\u001b[0m\u001b[0;34m.\u001b[0m\u001b[0mload\u001b[0m\u001b[0;34m(\u001b[0m\u001b[0;34m'input_data.npy'\u001b[0m\u001b[0;34m)\u001b[0m\u001b[0;34m\u001b[0m\u001b[0;34m\u001b[0m\u001b[0m\n\u001b[0m\u001b[1;32m      8\u001b[0m \u001b[0mdata\u001b[0m \u001b[0;34m=\u001b[0m \u001b[0mpreprocess_data\u001b[0m\u001b[0;34m(\u001b[0m\u001b[0mdata\u001b[0m\u001b[0;34m)\u001b[0m\u001b[0;34m\u001b[0m\u001b[0;34m\u001b[0m\u001b[0m\n\u001b[1;32m      9\u001b[0m \u001b[0;34m\u001b[0m\u001b[0m\n",
            "\u001b[0;32m/usr/local/lib/python3.9/dist-packages/numpy/lib/npyio.py\u001b[0m in \u001b[0;36mload\u001b[0;34m(file, mmap_mode, allow_pickle, fix_imports, encoding)\u001b[0m\n\u001b[1;32m    405\u001b[0m             \u001b[0mown_fid\u001b[0m \u001b[0;34m=\u001b[0m \u001b[0;32mFalse\u001b[0m\u001b[0;34m\u001b[0m\u001b[0;34m\u001b[0m\u001b[0m\n\u001b[1;32m    406\u001b[0m         \u001b[0;32melse\u001b[0m\u001b[0;34m:\u001b[0m\u001b[0;34m\u001b[0m\u001b[0;34m\u001b[0m\u001b[0m\n\u001b[0;32m--> 407\u001b[0;31m             \u001b[0mfid\u001b[0m \u001b[0;34m=\u001b[0m \u001b[0mstack\u001b[0m\u001b[0;34m.\u001b[0m\u001b[0menter_context\u001b[0m\u001b[0;34m(\u001b[0m\u001b[0mopen\u001b[0m\u001b[0;34m(\u001b[0m\u001b[0mos_fspath\u001b[0m\u001b[0;34m(\u001b[0m\u001b[0mfile\u001b[0m\u001b[0;34m)\u001b[0m\u001b[0;34m,\u001b[0m \u001b[0;34m\"rb\"\u001b[0m\u001b[0;34m)\u001b[0m\u001b[0;34m)\u001b[0m\u001b[0;34m\u001b[0m\u001b[0;34m\u001b[0m\u001b[0m\n\u001b[0m\u001b[1;32m    408\u001b[0m             \u001b[0mown_fid\u001b[0m \u001b[0;34m=\u001b[0m \u001b[0;32mTrue\u001b[0m\u001b[0;34m\u001b[0m\u001b[0;34m\u001b[0m\u001b[0m\n\u001b[1;32m    409\u001b[0m \u001b[0;34m\u001b[0m\u001b[0m\n",
            "\u001b[0;31mFileNotFoundError\u001b[0m: [Errno 2] No such file or directory: 'input_data.npy'"
          ]
        }
      ]
    },
    {
      "cell_type": "code",
      "source": [],
      "metadata": {
        "id": "six3NBAhYr-C"
      },
      "execution_count": null,
      "outputs": []
    },
    {
      "cell_type": "code",
      "source": [],
      "metadata": {
        "id": "ovhccXKvYsCs"
      },
      "execution_count": null,
      "outputs": []
    },
    {
      "cell_type": "code",
      "source": [],
      "metadata": {
        "id": "55k0MrGhYsDz"
      },
      "execution_count": null,
      "outputs": []
    },
    {
      "cell_type": "code",
      "source": [],
      "metadata": {
        "id": "jb5yP5LBYsIl"
      },
      "execution_count": null,
      "outputs": []
    }
  ]
}