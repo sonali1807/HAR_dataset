{
  "nbformat": 4,
  "nbformat_minor": 0,
  "metadata": {
    "colab": {
      "provenance": []
    },
    "kernelspec": {
      "name": "python3",
      "display_name": "Python 3"
    },
    "language_info": {
      "name": "python"
    },
    "accelerator": "GPU",
    "gpuClass": "standard"
  },
  "cells": [
    {
      "cell_type": "markdown",
      "source": [
        "# Applying LSTM Models on Raw Data"
      ],
      "metadata": {
        "id": "jUkGXVGfU1xN"
      }
    },
    {
      "cell_type": "code",
      "execution_count": 1,
      "metadata": {
        "id": "7USnX2QTSuKt"
      },
      "outputs": [],
      "source": [
        "# Importing Libraries\n",
        "\n",
        "import pandas as pd\n",
        "import numpy as np\n",
        "\n",
        "# Import Keras\n",
        "from keras import backend as K\n",
        "from keras.models import Sequential\n",
        "from keras.layers import LSTM\n",
        "from keras.layers.core import Dense, Dropout\n",
        "from keras.layers import BatchNormalization\n",
        "from keras.regularizers import L1L2"
      ]
    },
    {
      "cell_type": "code",
      "source": [
        "# Activities are the class labels\n",
        "# It is a 6 class classification\n",
        "ACTIVITIES = {\n",
        "    0: 'WALKING',\n",
        "    1: 'WALKING_UPSTAIRS',\n",
        "    2: 'WALKING_DOWNSTAIRS',\n",
        "    3: 'SITTING',\n",
        "    4: 'STANDING',\n",
        "    5: 'LAYING',\n",
        "}"
      ],
      "metadata": {
        "id": "UklmP7-eU9Wm"
      },
      "execution_count": 2,
      "outputs": []
    },
    {
      "cell_type": "code",
      "source": [
        "import matplotlib.pyplot as plt\n",
        "import seaborn as sns\n",
        "\n",
        "# function to print the confusion matrix\n",
        "\n",
        "def confusion_matrix(Y_true, Y_pred):\n",
        "    \n",
        "    Y_true = pd.Series([ACTIVITIES[y] for y in np.argmax(Y_true, axis=1)])\n",
        "    Y_pred = pd.Series([ACTIVITIES[y] for y in np.argmax(Y_pred, axis=1)])\n",
        "\n",
        "    return pd.crosstab(Y_true, Y_pred, rownames=['True'], colnames=['Pred'])\n",
        "\n",
        "    \n",
        "    result = confusion_matrix(Y_true, Y_pred)\n",
        "\n",
        "    plt.figure(figsize=(10, 8))\n",
        "    sns.heatmap(result, \n",
        "                xticklabels= list(ACTIVITIES.values()), \n",
        "                yticklabels=list(ACTIVITIES.values()), \n",
        "                annot=True, fmt=\"d\");\n",
        "    plt.title(\"Confusion matrix\")\n",
        "    plt.ylabel('True label')\n",
        "    plt.xlabel('Predicted label')\n",
        "    plt.show() "
      ],
      "metadata": {
        "id": "cG79tQGXVASE"
      },
      "execution_count": 3,
      "outputs": []
    },
    {
      "cell_type": "markdown",
      "source": [
        "### Loading Data"
      ],
      "metadata": {
        "id": "dfbEhMvGVG4K"
      }
    },
    {
      "cell_type": "code",
      "source": [
        "# Data directory\n",
        "DATADIR = 'UCI_HAR_Dataset'\n",
        "\n",
        "# Raw data signals\n",
        "# Signals are from Accelerometer and Gyroscope\n",
        "# The signals are in x,y,z directions\n",
        "# Sensor signals are filtered to have only body acceleration\n",
        "# excluding the acceleration due to gravity\n",
        "# Triaxial acceleration from the accelerometer is total acceleration\n",
        "SIGNALS = [\n",
        "    \"body_acc_x\",\n",
        "    \"body_acc_y\",\n",
        "    \"body_acc_z\",\n",
        "    \"body_gyro_x\",\n",
        "    \"body_gyro_y\",\n",
        "    \"body_gyro_z\",\n",
        "    \"total_acc_x\",\n",
        "    \"total_acc_y\",\n",
        "    \"total_acc_z\"\n",
        "    ]"
      ],
      "metadata": {
        "id": "W6E6gq2tVJjl"
      },
      "execution_count": 4,
      "outputs": []
    },
    {
      "cell_type": "code",
      "source": [
        "# define a function to read the data from csv file\n",
        "def _read_csv(filename):\n",
        "    return pd.read_csv(filename, delim_whitespace=True, header=None)\n",
        "\n",
        "# function to load the load\n",
        "def load_signals(subset):\n",
        "    signals_data = []\n",
        "\n",
        "    for signal in SIGNALS:\n",
        "        filename = f'/content/drive/MyDrive/UCI_HAR_Dataset/{subset}/Inertial Signals/{signal}_{subset}.txt'\n",
        "        signals_data.append(\n",
        "            _read_csv(filename).to_numpy()\n",
        "        ) \n",
        "\n",
        "    # Transpose is used to change the dimensionality of the output,\n",
        "    # aggregating the signals by combination of sample/timestep.\n",
        "    # Resultant shape is (7352 train/2947 test samples, 128 timesteps, 9 signals)\n",
        "    return np.transpose(signals_data, (1, 2, 0))"
      ],
      "metadata": {
        "id": "Gbp0kyOLVO13"
      },
      "execution_count": 5,
      "outputs": []
    },
    {
      "cell_type": "code",
      "source": [
        "def load_y(subset):\n",
        "    \"\"\"\n",
        "    The objective that we are trying to predict is a integer, from 1 to 6,\n",
        "    that represents a human activity. We return a binary representation of \n",
        "    every sample objective as a 6 bits vector using One Hot Encoding\n",
        "    (https://pandas.pydata.org/pandas-docs/stable/generated/pandas.get_dummies.html)\n",
        "    \"\"\"\n",
        "    filename = f'/content/drive/MyDrive/UCI_HAR_Dataset/{subset}/y_{subset}.txt'\n",
        "    y = _read_csv(filename)[0]\n",
        "\n",
        "    return pd.get_dummies(y).to_numpy()"
      ],
      "metadata": {
        "id": "MOXrPORRVRcJ"
      },
      "execution_count": 6,
      "outputs": []
    },
    {
      "cell_type": "code",
      "source": [
        "def load_data():\n",
        "    \"\"\"\n",
        "    Obtain the dataset from multiple files.\n",
        "    Returns: X_train, X_test, y_train, y_test\n",
        "    \"\"\"\n",
        "    X_train, X_test = load_signals('train'), load_signals('test')\n",
        "    y_train, y_test = load_y('train'), load_y('test')\n",
        "\n",
        "    return X_train, X_test, y_train, y_test"
      ],
      "metadata": {
        "id": "MEf5hg9lVTun"
      },
      "execution_count": 7,
      "outputs": []
    },
    {
      "cell_type": "code",
      "source": [
        "# Importing tensorflow\n",
        "np.random.seed(42)\n",
        "import tensorflow as tf\n",
        "tf.random.set_seed(42)"
      ],
      "metadata": {
        "id": "Edexn_grVWug"
      },
      "execution_count": 8,
      "outputs": []
    },
    {
      "cell_type": "code",
      "source": [
        "# Initializing parameters\n",
        "epochs = 30\n",
        "batch_size = 16\n",
        "n_hidden = 32"
      ],
      "metadata": {
        "id": "B4dT-A4bVapl"
      },
      "execution_count": 9,
      "outputs": []
    },
    {
      "cell_type": "code",
      "source": [
        "#function to count the number of classes\n",
        "def _count_classes(y):\n",
        "    return len(set([tuple(category) for category in y]))"
      ],
      "metadata": {
        "id": "5D6pcPuVVbyl"
      },
      "execution_count": 10,
      "outputs": []
    },
    {
      "cell_type": "code",
      "source": [
        "# Loading the train and test data\n",
        "X_train, X_test, y_train, y_test = load_data()"
      ],
      "metadata": {
        "id": "VUoSMvSfVga3"
      },
      "execution_count": 11,
      "outputs": []
    },
    {
      "cell_type": "code",
      "source": [
        "timesteps = len(X_train[0])\n",
        "input_dim = len(X_train[0][0])\n",
        "n_classes = _count_classes(y_train)\n",
        "\n",
        "print(timesteps)\n",
        "print(input_dim)\n",
        "print(len(X_train))"
      ],
      "metadata": {
        "colab": {
          "base_uri": "https://localhost:8080/"
        },
        "id": "MXby1ubyVjBV",
        "outputId": "b5e363dc-202e-4fb9-efc7-c2e417291fdc"
      },
      "execution_count": 12,
      "outputs": [
        {
          "output_type": "stream",
          "name": "stdout",
          "text": [
            "128\n",
            "9\n",
            "7352\n"
          ]
        }
      ]
    },
    {
      "cell_type": "markdown",
      "source": [
        " 1. Defining the Architecture of 1-Layer of LSTM"
      ],
      "metadata": {
        "id": "m182sLnyVl0K"
      }
    },
    {
      "cell_type": "code",
      "source": [
        "# Initiliazing the sequential model\n",
        "model = Sequential()\n",
        "# Configuring the parameters\n",
        "model.add(LSTM(n_hidden, input_shape=(timesteps, input_dim)))\n",
        "# Adding a dropout layer\n",
        "model.add(Dropout(0.5))\n",
        "# Adding a dense output layer with sigmoid activation\n",
        "model.add(Dense(n_classes, activation='sigmoid'))\n",
        "model.summary()"
      ],
      "metadata": {
        "colab": {
          "base_uri": "https://localhost:8080/"
        },
        "id": "BGD2Lt3MVnK5",
        "outputId": "c437a46a-4825-4a33-cab4-f861dd3521a3"
      },
      "execution_count": 13,
      "outputs": [
        {
          "output_type": "stream",
          "name": "stdout",
          "text": [
            "Model: \"sequential\"\n",
            "_________________________________________________________________\n",
            " Layer (type)                Output Shape              Param #   \n",
            "=================================================================\n",
            " lstm (LSTM)                 (None, 32)                5376      \n",
            "                                                                 \n",
            " dropout (Dropout)           (None, 32)                0         \n",
            "                                                                 \n",
            " dense (Dense)               (None, 6)                 198       \n",
            "                                                                 \n",
            "=================================================================\n",
            "Total params: 5,574\n",
            "Trainable params: 5,574\n",
            "Non-trainable params: 0\n",
            "_________________________________________________________________\n"
          ]
        }
      ]
    },
    {
      "cell_type": "code",
      "source": [
        "# Compiling the model\n",
        "model.compile(loss='categorical_crossentropy', optimizer='rmsprop', metrics=['accuracy'])"
      ],
      "metadata": {
        "id": "MIX8hyRoVrSs"
      },
      "execution_count": 14,
      "outputs": []
    },
    {
      "cell_type": "code",
      "source": [
        "# Training the model\n",
        "model.fit(X_train, y_train, batch_size=batch_size, validation_data=(X_test, y_test),epochs=epochs)"
      ],
      "metadata": {
        "colab": {
          "base_uri": "https://localhost:8080/"
        },
        "id": "RxoV_8fdVt7u",
        "outputId": "f5c0512b-9ecc-425f-81b6-659ce43e68d2"
      },
      "execution_count": 15,
      "outputs": [
        {
          "output_type": "stream",
          "name": "stdout",
          "text": [
            "Epoch 1/30\n",
            "460/460 [==============================] - 12s 10ms/step - loss: 1.1997 - accuracy: 0.5044 - val_loss: 0.9316 - val_accuracy: 0.5948\n",
            "Epoch 2/30\n",
            "460/460 [==============================] - 3s 8ms/step - loss: 0.7876 - accuracy: 0.6547 - val_loss: 0.7006 - val_accuracy: 0.7133\n",
            "Epoch 3/30\n",
            "460/460 [==============================] - 5s 10ms/step - loss: 0.6394 - accuracy: 0.7424 - val_loss: 0.6620 - val_accuracy: 0.7458\n",
            "Epoch 4/30\n",
            "460/460 [==============================] - 3s 8ms/step - loss: 0.5730 - accuracy: 0.7707 - val_loss: 0.7624 - val_accuracy: 0.7027\n",
            "Epoch 5/30\n",
            "460/460 [==============================] - 4s 9ms/step - loss: 0.4698 - accuracy: 0.8392 - val_loss: 0.7096 - val_accuracy: 0.7781\n",
            "Epoch 6/30\n",
            "460/460 [==============================] - 5s 11ms/step - loss: 0.3910 - accuracy: 0.8758 - val_loss: 0.5197 - val_accuracy: 0.8266\n",
            "Epoch 7/30\n",
            "460/460 [==============================] - 4s 8ms/step - loss: 0.3167 - accuracy: 0.8977 - val_loss: 0.4726 - val_accuracy: 0.8527\n",
            "Epoch 8/30\n",
            "460/460 [==============================] - 3s 7ms/step - loss: 0.2730 - accuracy: 0.9147 - val_loss: 0.5026 - val_accuracy: 0.8548\n",
            "Epoch 9/30\n",
            "460/460 [==============================] - 3s 7ms/step - loss: 0.2572 - accuracy: 0.9195 - val_loss: 0.4741 - val_accuracy: 0.8588\n",
            "Epoch 10/30\n",
            "460/460 [==============================] - 4s 10ms/step - loss: 0.2712 - accuracy: 0.9187 - val_loss: 0.5249 - val_accuracy: 0.8500\n",
            "Epoch 11/30\n",
            "460/460 [==============================] - 3s 7ms/step - loss: 0.2149 - accuracy: 0.9285 - val_loss: 0.5328 - val_accuracy: 0.8588\n",
            "Epoch 12/30\n",
            "460/460 [==============================] - 3s 8ms/step - loss: 0.1893 - accuracy: 0.9332 - val_loss: 0.5744 - val_accuracy: 0.8738\n",
            "Epoch 13/30\n",
            "460/460 [==============================] - 4s 9ms/step - loss: 0.1952 - accuracy: 0.9361 - val_loss: 0.4896 - val_accuracy: 0.8731\n",
            "Epoch 14/30\n",
            "460/460 [==============================] - 4s 9ms/step - loss: 0.1782 - accuracy: 0.9412 - val_loss: 0.5079 - val_accuracy: 0.8795\n",
            "Epoch 15/30\n",
            "460/460 [==============================] - 3s 8ms/step - loss: 0.1743 - accuracy: 0.9416 - val_loss: 0.5304 - val_accuracy: 0.8785\n",
            "Epoch 16/30\n",
            "460/460 [==============================] - 4s 8ms/step - loss: 0.1788 - accuracy: 0.9400 - val_loss: 0.5918 - val_accuracy: 0.8694\n",
            "Epoch 17/30\n",
            "460/460 [==============================] - 5s 11ms/step - loss: 0.1683 - accuracy: 0.9444 - val_loss: 0.6487 - val_accuracy: 0.8405\n",
            "Epoch 18/30\n",
            "460/460 [==============================] - 3s 8ms/step - loss: 0.1666 - accuracy: 0.9418 - val_loss: 0.5662 - val_accuracy: 0.8894\n",
            "Epoch 19/30\n",
            "460/460 [==============================] - 3s 7ms/step - loss: 0.1534 - accuracy: 0.9429 - val_loss: 0.6771 - val_accuracy: 0.8816\n",
            "Epoch 20/30\n",
            "460/460 [==============================] - 4s 9ms/step - loss: 0.1569 - accuracy: 0.9440 - val_loss: 0.6227 - val_accuracy: 0.8765\n",
            "Epoch 21/30\n",
            "460/460 [==============================] - 5s 10ms/step - loss: 0.1485 - accuracy: 0.9489 - val_loss: 0.5689 - val_accuracy: 0.8744\n",
            "Epoch 22/30\n",
            "460/460 [==============================] - 3s 8ms/step - loss: 0.1508 - accuracy: 0.9459 - val_loss: 0.6098 - val_accuracy: 0.8918\n",
            "Epoch 23/30\n",
            "460/460 [==============================] - 3s 7ms/step - loss: 0.1515 - accuracy: 0.9475 - val_loss: 0.6867 - val_accuracy: 0.8853\n",
            "Epoch 24/30\n",
            "460/460 [==============================] - 4s 10ms/step - loss: 0.1551 - accuracy: 0.9461 - val_loss: 2.0925 - val_accuracy: 0.7574\n",
            "Epoch 25/30\n",
            "460/460 [==============================] - 4s 8ms/step - loss: 0.1588 - accuracy: 0.9480 - val_loss: 0.5236 - val_accuracy: 0.8721\n",
            "Epoch 26/30\n",
            "460/460 [==============================] - 4s 8ms/step - loss: 0.1487 - accuracy: 0.9465 - val_loss: 0.6185 - val_accuracy: 0.8856\n",
            "Epoch 27/30\n",
            "460/460 [==============================] - 4s 9ms/step - loss: 0.1497 - accuracy: 0.9453 - val_loss: 0.7312 - val_accuracy: 0.8677\n",
            "Epoch 28/30\n",
            "460/460 [==============================] - 4s 9ms/step - loss: 0.1397 - accuracy: 0.9467 - val_loss: 0.5685 - val_accuracy: 0.8968\n",
            "Epoch 29/30\n",
            "460/460 [==============================] - 3s 8ms/step - loss: 0.1489 - accuracy: 0.9467 - val_loss: 0.6945 - val_accuracy: 0.8765\n",
            "Epoch 30/30\n",
            "460/460 [==============================] - 3s 8ms/step - loss: 0.1505 - accuracy: 0.9482 - val_loss: 0.6049 - val_accuracy: 0.8985\n"
          ]
        },
        {
          "output_type": "execute_result",
          "data": {
            "text/plain": [
              "<keras.callbacks.History at 0x7ff00a569ac0>"
            ]
          },
          "metadata": {},
          "execution_count": 15
        }
      ]
    },
    {
      "cell_type": "code",
      "source": [
        "# Confusion Matrix\n",
        "confusion_matrix(y_test, model.predict(X_test))"
      ],
      "metadata": {
        "colab": {
          "base_uri": "https://localhost:8080/",
          "height": 286
        },
        "id": "Pl6Y6R3zVwzE",
        "outputId": "addcc534-aa89-4099-c326-a504eed6215f"
      },
      "execution_count": 16,
      "outputs": [
        {
          "output_type": "stream",
          "name": "stdout",
          "text": [
            "93/93 [==============================] - 1s 4ms/step\n"
          ]
        },
        {
          "output_type": "execute_result",
          "data": {
            "text/plain": [
              "Pred                LAYING  SITTING  STANDING  WALKING  WALKING_DOWNSTAIRS  \\\n",
              "True                                                                         \n",
              "LAYING                 510        0         0        0                   0   \n",
              "SITTING                  0      390        97        0                   1   \n",
              "STANDING                 0       64       466        0                   2   \n",
              "WALKING                  0        0         0      439                  51   \n",
              "WALKING_DOWNSTAIRS       0        1         0        4                 414   \n",
              "WALKING_UPSTAIRS         0        1         2       26                  13   \n",
              "\n",
              "Pred                WALKING_UPSTAIRS  \n",
              "True                                  \n",
              "LAYING                            27  \n",
              "SITTING                            3  \n",
              "STANDING                           0  \n",
              "WALKING                            6  \n",
              "WALKING_DOWNSTAIRS                 1  \n",
              "WALKING_UPSTAIRS                 429  "
            ],
            "text/html": [
              "\n",
              "  <div id=\"df-fe723c14-56fc-4356-aec1-76e3fa2c06e7\">\n",
              "    <div class=\"colab-df-container\">\n",
              "      <div>\n",
              "<style scoped>\n",
              "    .dataframe tbody tr th:only-of-type {\n",
              "        vertical-align: middle;\n",
              "    }\n",
              "\n",
              "    .dataframe tbody tr th {\n",
              "        vertical-align: top;\n",
              "    }\n",
              "\n",
              "    .dataframe thead th {\n",
              "        text-align: right;\n",
              "    }\n",
              "</style>\n",
              "<table border=\"1\" class=\"dataframe\">\n",
              "  <thead>\n",
              "    <tr style=\"text-align: right;\">\n",
              "      <th>Pred</th>\n",
              "      <th>LAYING</th>\n",
              "      <th>SITTING</th>\n",
              "      <th>STANDING</th>\n",
              "      <th>WALKING</th>\n",
              "      <th>WALKING_DOWNSTAIRS</th>\n",
              "      <th>WALKING_UPSTAIRS</th>\n",
              "    </tr>\n",
              "    <tr>\n",
              "      <th>True</th>\n",
              "      <th></th>\n",
              "      <th></th>\n",
              "      <th></th>\n",
              "      <th></th>\n",
              "      <th></th>\n",
              "      <th></th>\n",
              "    </tr>\n",
              "  </thead>\n",
              "  <tbody>\n",
              "    <tr>\n",
              "      <th>LAYING</th>\n",
              "      <td>510</td>\n",
              "      <td>0</td>\n",
              "      <td>0</td>\n",
              "      <td>0</td>\n",
              "      <td>0</td>\n",
              "      <td>27</td>\n",
              "    </tr>\n",
              "    <tr>\n",
              "      <th>SITTING</th>\n",
              "      <td>0</td>\n",
              "      <td>390</td>\n",
              "      <td>97</td>\n",
              "      <td>0</td>\n",
              "      <td>1</td>\n",
              "      <td>3</td>\n",
              "    </tr>\n",
              "    <tr>\n",
              "      <th>STANDING</th>\n",
              "      <td>0</td>\n",
              "      <td>64</td>\n",
              "      <td>466</td>\n",
              "      <td>0</td>\n",
              "      <td>2</td>\n",
              "      <td>0</td>\n",
              "    </tr>\n",
              "    <tr>\n",
              "      <th>WALKING</th>\n",
              "      <td>0</td>\n",
              "      <td>0</td>\n",
              "      <td>0</td>\n",
              "      <td>439</td>\n",
              "      <td>51</td>\n",
              "      <td>6</td>\n",
              "    </tr>\n",
              "    <tr>\n",
              "      <th>WALKING_DOWNSTAIRS</th>\n",
              "      <td>0</td>\n",
              "      <td>1</td>\n",
              "      <td>0</td>\n",
              "      <td>4</td>\n",
              "      <td>414</td>\n",
              "      <td>1</td>\n",
              "    </tr>\n",
              "    <tr>\n",
              "      <th>WALKING_UPSTAIRS</th>\n",
              "      <td>0</td>\n",
              "      <td>1</td>\n",
              "      <td>2</td>\n",
              "      <td>26</td>\n",
              "      <td>13</td>\n",
              "      <td>429</td>\n",
              "    </tr>\n",
              "  </tbody>\n",
              "</table>\n",
              "</div>\n",
              "      <button class=\"colab-df-convert\" onclick=\"convertToInteractive('df-fe723c14-56fc-4356-aec1-76e3fa2c06e7')\"\n",
              "              title=\"Convert this dataframe to an interactive table.\"\n",
              "              style=\"display:none;\">\n",
              "        \n",
              "  <svg xmlns=\"http://www.w3.org/2000/svg\" height=\"24px\"viewBox=\"0 0 24 24\"\n",
              "       width=\"24px\">\n",
              "    <path d=\"M0 0h24v24H0V0z\" fill=\"none\"/>\n",
              "    <path d=\"M18.56 5.44l.94 2.06.94-2.06 2.06-.94-2.06-.94-.94-2.06-.94 2.06-2.06.94zm-11 1L8.5 8.5l.94-2.06 2.06-.94-2.06-.94L8.5 2.5l-.94 2.06-2.06.94zm10 10l.94 2.06.94-2.06 2.06-.94-2.06-.94-.94-2.06-.94 2.06-2.06.94z\"/><path d=\"M17.41 7.96l-1.37-1.37c-.4-.4-.92-.59-1.43-.59-.52 0-1.04.2-1.43.59L10.3 9.45l-7.72 7.72c-.78.78-.78 2.05 0 2.83L4 21.41c.39.39.9.59 1.41.59.51 0 1.02-.2 1.41-.59l7.78-7.78 2.81-2.81c.8-.78.8-2.07 0-2.86zM5.41 20L4 18.59l7.72-7.72 1.47 1.35L5.41 20z\"/>\n",
              "  </svg>\n",
              "      </button>\n",
              "      \n",
              "  <style>\n",
              "    .colab-df-container {\n",
              "      display:flex;\n",
              "      flex-wrap:wrap;\n",
              "      gap: 12px;\n",
              "    }\n",
              "\n",
              "    .colab-df-convert {\n",
              "      background-color: #E8F0FE;\n",
              "      border: none;\n",
              "      border-radius: 50%;\n",
              "      cursor: pointer;\n",
              "      display: none;\n",
              "      fill: #1967D2;\n",
              "      height: 32px;\n",
              "      padding: 0 0 0 0;\n",
              "      width: 32px;\n",
              "    }\n",
              "\n",
              "    .colab-df-convert:hover {\n",
              "      background-color: #E2EBFA;\n",
              "      box-shadow: 0px 1px 2px rgba(60, 64, 67, 0.3), 0px 1px 3px 1px rgba(60, 64, 67, 0.15);\n",
              "      fill: #174EA6;\n",
              "    }\n",
              "\n",
              "    [theme=dark] .colab-df-convert {\n",
              "      background-color: #3B4455;\n",
              "      fill: #D2E3FC;\n",
              "    }\n",
              "\n",
              "    [theme=dark] .colab-df-convert:hover {\n",
              "      background-color: #434B5C;\n",
              "      box-shadow: 0px 1px 3px 1px rgba(0, 0, 0, 0.15);\n",
              "      filter: drop-shadow(0px 1px 2px rgba(0, 0, 0, 0.3));\n",
              "      fill: #FFFFFF;\n",
              "    }\n",
              "  </style>\n",
              "\n",
              "      <script>\n",
              "        const buttonEl =\n",
              "          document.querySelector('#df-fe723c14-56fc-4356-aec1-76e3fa2c06e7 button.colab-df-convert');\n",
              "        buttonEl.style.display =\n",
              "          google.colab.kernel.accessAllowed ? 'block' : 'none';\n",
              "\n",
              "        async function convertToInteractive(key) {\n",
              "          const element = document.querySelector('#df-fe723c14-56fc-4356-aec1-76e3fa2c06e7');\n",
              "          const dataTable =\n",
              "            await google.colab.kernel.invokeFunction('convertToInteractive',\n",
              "                                                     [key], {});\n",
              "          if (!dataTable) return;\n",
              "\n",
              "          const docLinkHtml = 'Like what you see? Visit the ' +\n",
              "            '<a target=\"_blank\" href=https://colab.research.google.com/notebooks/data_table.ipynb>data table notebook</a>'\n",
              "            + ' to learn more about interactive tables.';\n",
              "          element.innerHTML = '';\n",
              "          dataTable['output_type'] = 'display_data';\n",
              "          await google.colab.output.renderOutput(dataTable, element);\n",
              "          const docLink = document.createElement('div');\n",
              "          docLink.innerHTML = docLinkHtml;\n",
              "          element.appendChild(docLink);\n",
              "        }\n",
              "      </script>\n",
              "    </div>\n",
              "  </div>\n",
              "  "
            ]
          },
          "metadata": {},
          "execution_count": 16
        }
      ]
    },
    {
      "cell_type": "code",
      "source": [
        "score = model.evaluate(X_test, y_test)\n",
        "\n",
        "print(\"\\n   categorical_crossentropy  ||   accuracy \")\n",
        "print(\"  ____________________________________\")\n",
        "print(score)"
      ],
      "metadata": {
        "colab": {
          "base_uri": "https://localhost:8080/"
        },
        "id": "hwFZ64M7V0dN",
        "outputId": "68227828-5391-4d68-c23d-781787d6244e"
      },
      "execution_count": 17,
      "outputs": [
        {
          "output_type": "stream",
          "name": "stdout",
          "text": [
            "93/93 [==============================] - 0s 4ms/step - loss: 0.6049 - accuracy: 0.8985\n",
            "\n",
            "   categorical_crossentropy  ||   accuracy \n",
            "  ____________________________________\n",
            "[0.6048541069030762, 0.8985409140586853]\n"
          ]
        }
      ]
    },
    {
      "cell_type": "markdown",
      "source": [
        "   2. Defining the Architecture of 2-Layer of LSTM with more hyperparameter tunning"
      ],
      "metadata": {
        "id": "EFsp0FcXV9HG"
      }
    },
    {
      "cell_type": "markdown",
      "source": [
        "#### 2.1 First Model for 2-Layer of LSTM with more hyperparameter tunning"
      ],
      "metadata": {
        "id": "8p4j41aSV_Uv"
      }
    },
    {
      "cell_type": "code",
      "source": [
        "# Initializing parameters\n",
        "n_epochs = 30\n",
        "n_batch = 16\n",
        "n_classes = _count_classes(y_train)\n",
        "\n",
        "# Bias regularizer value - we will use elasticnet\n",
        "reg = L1L2(0.01, 0.01)"
      ],
      "metadata": {
        "id": "O594yNV2WSRj"
      },
      "execution_count": 18,
      "outputs": []
    },
    {
      "cell_type": "code",
      "source": [
        "# Model execution\n",
        "model = Sequential()\n",
        "model.add(LSTM(48, input_shape=(timesteps, input_dim), return_sequences=True,bias_regularizer=reg ))\n",
        "model.add(BatchNormalization())\n",
        "model.add(Dropout(0.50))\n",
        "model.add(LSTM(32))\n",
        "model.add(Dropout(0.50))\n",
        "model.add(Dense(n_classes, activation='sigmoid'))\n",
        "print(\"Model Summary: \")\n",
        "model.summary()"
      ],
      "metadata": {
        "colab": {
          "base_uri": "https://localhost:8080/"
        },
        "id": "17yKQHdAWVWs",
        "outputId": "1bd8d2a5-f0a4-4840-c9cd-baa27c7d0863"
      },
      "execution_count": 19,
      "outputs": [
        {
          "output_type": "stream",
          "name": "stdout",
          "text": [
            "Model Summary: \n",
            "Model: \"sequential_1\"\n",
            "_________________________________________________________________\n",
            " Layer (type)                Output Shape              Param #   \n",
            "=================================================================\n",
            " lstm_1 (LSTM)               (None, 128, 48)           11136     \n",
            "                                                                 \n",
            " batch_normalization (BatchN  (None, 128, 48)          192       \n",
            " ormalization)                                                   \n",
            "                                                                 \n",
            " dropout_1 (Dropout)         (None, 128, 48)           0         \n",
            "                                                                 \n",
            " lstm_2 (LSTM)               (None, 32)                10368     \n",
            "                                                                 \n",
            " dropout_2 (Dropout)         (None, 32)                0         \n",
            "                                                                 \n",
            " dense_1 (Dense)             (None, 6)                 198       \n",
            "                                                                 \n",
            "=================================================================\n",
            "Total params: 21,894\n",
            "Trainable params: 21,798\n",
            "Non-trainable params: 96\n",
            "_________________________________________________________________\n"
          ]
        }
      ]
    },
    {
      "cell_type": "code",
      "source": [
        "model.compile(loss='categorical_crossentropy', optimizer='adam', metrics=['accuracy'])"
      ],
      "metadata": {
        "id": "HfXE9HTbWYMc"
      },
      "execution_count": 20,
      "outputs": []
    },
    {
      "cell_type": "code",
      "source": [
        "# Training the model\n",
        "model.fit(X_train, y_train, batch_size=n_batch, validation_data=(X_test, y_test), epochs=n_epochs)"
      ],
      "metadata": {
        "colab": {
          "base_uri": "https://localhost:8080/"
        },
        "id": "TQxn8R_VWbJA",
        "outputId": "8373b10c-8f41-4387-c8c5-e9e1ba62efa3"
      },
      "execution_count": 21,
      "outputs": [
        {
          "output_type": "stream",
          "name": "stdout",
          "text": [
            "Epoch 1/30\n",
            "460/460 [==============================] - 12s 15ms/step - loss: 1.5419 - accuracy: 0.6927 - val_loss: 1.0551 - val_accuracy: 0.7981\n",
            "Epoch 2/30\n",
            "460/460 [==============================] - 7s 15ms/step - loss: 0.7324 - accuracy: 0.8751 - val_loss: 0.5578 - val_accuracy: 0.8911\n",
            "Epoch 3/30\n",
            "460/460 [==============================] - 6s 13ms/step - loss: 0.4112 - accuracy: 0.9123 - val_loss: 0.5101 - val_accuracy: 0.8517\n",
            "Epoch 4/30\n",
            "460/460 [==============================] - 8s 18ms/step - loss: 0.2974 - accuracy: 0.9142 - val_loss: 0.3355 - val_accuracy: 0.9023\n",
            "Epoch 5/30\n",
            "460/460 [==============================] - 6s 14ms/step - loss: 0.2495 - accuracy: 0.9189 - val_loss: 0.3902 - val_accuracy: 0.8802\n",
            "Epoch 6/30\n",
            "460/460 [==============================] - 7s 16ms/step - loss: 0.1918 - accuracy: 0.9317 - val_loss: 0.3483 - val_accuracy: 0.9023\n",
            "Epoch 7/30\n",
            "460/460 [==============================] - 6s 14ms/step - loss: 0.1725 - accuracy: 0.9378 - val_loss: 0.3657 - val_accuracy: 0.8955\n",
            "Epoch 8/30\n",
            "460/460 [==============================] - 7s 15ms/step - loss: 0.1835 - accuracy: 0.9354 - val_loss: 0.3630 - val_accuracy: 0.9023\n",
            "Epoch 9/30\n",
            "460/460 [==============================] - 10s 22ms/step - loss: 0.1737 - accuracy: 0.9355 - val_loss: 0.3410 - val_accuracy: 0.8985\n",
            "Epoch 10/30\n",
            "460/460 [==============================] - 12s 25ms/step - loss: 0.2092 - accuracy: 0.9310 - val_loss: 0.7551 - val_accuracy: 0.8246\n",
            "Epoch 11/30\n",
            "460/460 [==============================] - 8s 16ms/step - loss: 0.2178 - accuracy: 0.9222 - val_loss: 0.2823 - val_accuracy: 0.9070\n",
            "Epoch 12/30\n",
            "460/460 [==============================] - 6s 14ms/step - loss: 0.1775 - accuracy: 0.9369 - val_loss: 0.2537 - val_accuracy: 0.9121\n",
            "Epoch 13/30\n",
            "460/460 [==============================] - 7s 15ms/step - loss: 0.1517 - accuracy: 0.9404 - val_loss: 0.2817 - val_accuracy: 0.9084\n",
            "Epoch 14/30\n",
            "460/460 [==============================] - 6s 13ms/step - loss: 0.1893 - accuracy: 0.9316 - val_loss: 0.3136 - val_accuracy: 0.9050\n",
            "Epoch 15/30\n",
            "460/460 [==============================] - 7s 15ms/step - loss: 0.1636 - accuracy: 0.9418 - val_loss: 0.2914 - val_accuracy: 0.9002\n",
            "Epoch 16/30\n",
            "460/460 [==============================] - 7s 15ms/step - loss: 0.1558 - accuracy: 0.9414 - val_loss: 0.6847 - val_accuracy: 0.8561\n",
            "Epoch 17/30\n",
            "460/460 [==============================] - 8s 16ms/step - loss: 0.1716 - accuracy: 0.9376 - val_loss: 0.2524 - val_accuracy: 0.9101\n",
            "Epoch 18/30\n",
            "460/460 [==============================] - 6s 14ms/step - loss: 0.1517 - accuracy: 0.9438 - val_loss: 0.2678 - val_accuracy: 0.9175\n",
            "Epoch 19/30\n",
            "460/460 [==============================] - 7s 15ms/step - loss: 0.1425 - accuracy: 0.9418 - val_loss: 0.2962 - val_accuracy: 0.9114\n",
            "Epoch 20/30\n",
            "460/460 [==============================] - 6s 13ms/step - loss: 0.1396 - accuracy: 0.9461 - val_loss: 0.3213 - val_accuracy: 0.9179\n",
            "Epoch 21/30\n",
            "460/460 [==============================] - 7s 15ms/step - loss: 0.1471 - accuracy: 0.9456 - val_loss: 0.2817 - val_accuracy: 0.8982\n",
            "Epoch 22/30\n",
            "460/460 [==============================] - 6s 14ms/step - loss: 0.1344 - accuracy: 0.9475 - val_loss: 0.3043 - val_accuracy: 0.9131\n",
            "Epoch 23/30\n",
            "460/460 [==============================] - 7s 16ms/step - loss: 0.1682 - accuracy: 0.9416 - val_loss: 0.3484 - val_accuracy: 0.9080\n",
            "Epoch 24/30\n",
            "460/460 [==============================] - 6s 13ms/step - loss: 0.1459 - accuracy: 0.9453 - val_loss: 0.3145 - val_accuracy: 0.9148\n",
            "Epoch 25/30\n",
            "460/460 [==============================] - 7s 15ms/step - loss: 0.1371 - accuracy: 0.9483 - val_loss: 0.2958 - val_accuracy: 0.9213\n",
            "Epoch 26/30\n",
            "460/460 [==============================] - 6s 13ms/step - loss: 0.1326 - accuracy: 0.9474 - val_loss: 0.3107 - val_accuracy: 0.9196\n",
            "Epoch 27/30\n",
            "460/460 [==============================] - 7s 15ms/step - loss: 0.1427 - accuracy: 0.9430 - val_loss: 0.3020 - val_accuracy: 0.9237\n",
            "Epoch 28/30\n",
            "460/460 [==============================] - 6s 13ms/step - loss: 0.1398 - accuracy: 0.9468 - val_loss: 0.2951 - val_accuracy: 0.9203\n",
            "Epoch 29/30\n",
            "460/460 [==============================] - 7s 15ms/step - loss: 0.1277 - accuracy: 0.9472 - val_loss: 0.2998 - val_accuracy: 0.9209\n",
            "Epoch 30/30\n",
            "460/460 [==============================] - 6s 13ms/step - loss: 0.1861 - accuracy: 0.9376 - val_loss: 0.2768 - val_accuracy: 0.9192\n"
          ]
        },
        {
          "output_type": "execute_result",
          "data": {
            "text/plain": [
              "<keras.callbacks.History at 0x7fef81cde790>"
            ]
          },
          "metadata": {},
          "execution_count": 21
        }
      ]
    },
    {
      "cell_type": "code",
      "source": [
        "# Confusion Matrix\n",
        "confusion_matrix(y_test, model.predict(X_test))"
      ],
      "metadata": {
        "colab": {
          "base_uri": "https://localhost:8080/",
          "height": 286
        },
        "id": "abLtI6JsWeM1",
        "outputId": "f3a98f3c-2bd9-426d-8758-d331b88091bd"
      },
      "execution_count": 22,
      "outputs": [
        {
          "output_type": "stream",
          "name": "stdout",
          "text": [
            "93/93 [==============================] - 1s 5ms/step\n"
          ]
        },
        {
          "output_type": "execute_result",
          "data": {
            "text/plain": [
              "Pred                LAYING  SITTING  STANDING  WALKING  WALKING_DOWNSTAIRS  \\\n",
              "True                                                                         \n",
              "LAYING                 536        1         0        0                   0   \n",
              "SITTING                  0      419        68        0                   0   \n",
              "STANDING                 0      115       416        1                   0   \n",
              "WALKING                  0        0         0      470                  26   \n",
              "WALKING_DOWNSTAIRS       0        0         0        0                 416   \n",
              "WALKING_UPSTAIRS         0        4         0        6                   9   \n",
              "\n",
              "Pred                WALKING_UPSTAIRS  \n",
              "True                                  \n",
              "LAYING                             0  \n",
              "SITTING                            4  \n",
              "STANDING                           0  \n",
              "WALKING                            0  \n",
              "WALKING_DOWNSTAIRS                 4  \n",
              "WALKING_UPSTAIRS                 452  "
            ],
            "text/html": [
              "\n",
              "  <div id=\"df-24417a93-5aa4-41b8-a355-7fe80f50c9a8\">\n",
              "    <div class=\"colab-df-container\">\n",
              "      <div>\n",
              "<style scoped>\n",
              "    .dataframe tbody tr th:only-of-type {\n",
              "        vertical-align: middle;\n",
              "    }\n",
              "\n",
              "    .dataframe tbody tr th {\n",
              "        vertical-align: top;\n",
              "    }\n",
              "\n",
              "    .dataframe thead th {\n",
              "        text-align: right;\n",
              "    }\n",
              "</style>\n",
              "<table border=\"1\" class=\"dataframe\">\n",
              "  <thead>\n",
              "    <tr style=\"text-align: right;\">\n",
              "      <th>Pred</th>\n",
              "      <th>LAYING</th>\n",
              "      <th>SITTING</th>\n",
              "      <th>STANDING</th>\n",
              "      <th>WALKING</th>\n",
              "      <th>WALKING_DOWNSTAIRS</th>\n",
              "      <th>WALKING_UPSTAIRS</th>\n",
              "    </tr>\n",
              "    <tr>\n",
              "      <th>True</th>\n",
              "      <th></th>\n",
              "      <th></th>\n",
              "      <th></th>\n",
              "      <th></th>\n",
              "      <th></th>\n",
              "      <th></th>\n",
              "    </tr>\n",
              "  </thead>\n",
              "  <tbody>\n",
              "    <tr>\n",
              "      <th>LAYING</th>\n",
              "      <td>536</td>\n",
              "      <td>1</td>\n",
              "      <td>0</td>\n",
              "      <td>0</td>\n",
              "      <td>0</td>\n",
              "      <td>0</td>\n",
              "    </tr>\n",
              "    <tr>\n",
              "      <th>SITTING</th>\n",
              "      <td>0</td>\n",
              "      <td>419</td>\n",
              "      <td>68</td>\n",
              "      <td>0</td>\n",
              "      <td>0</td>\n",
              "      <td>4</td>\n",
              "    </tr>\n",
              "    <tr>\n",
              "      <th>STANDING</th>\n",
              "      <td>0</td>\n",
              "      <td>115</td>\n",
              "      <td>416</td>\n",
              "      <td>1</td>\n",
              "      <td>0</td>\n",
              "      <td>0</td>\n",
              "    </tr>\n",
              "    <tr>\n",
              "      <th>WALKING</th>\n",
              "      <td>0</td>\n",
              "      <td>0</td>\n",
              "      <td>0</td>\n",
              "      <td>470</td>\n",
              "      <td>26</td>\n",
              "      <td>0</td>\n",
              "    </tr>\n",
              "    <tr>\n",
              "      <th>WALKING_DOWNSTAIRS</th>\n",
              "      <td>0</td>\n",
              "      <td>0</td>\n",
              "      <td>0</td>\n",
              "      <td>0</td>\n",
              "      <td>416</td>\n",
              "      <td>4</td>\n",
              "    </tr>\n",
              "    <tr>\n",
              "      <th>WALKING_UPSTAIRS</th>\n",
              "      <td>0</td>\n",
              "      <td>4</td>\n",
              "      <td>0</td>\n",
              "      <td>6</td>\n",
              "      <td>9</td>\n",
              "      <td>452</td>\n",
              "    </tr>\n",
              "  </tbody>\n",
              "</table>\n",
              "</div>\n",
              "      <button class=\"colab-df-convert\" onclick=\"convertToInteractive('df-24417a93-5aa4-41b8-a355-7fe80f50c9a8')\"\n",
              "              title=\"Convert this dataframe to an interactive table.\"\n",
              "              style=\"display:none;\">\n",
              "        \n",
              "  <svg xmlns=\"http://www.w3.org/2000/svg\" height=\"24px\"viewBox=\"0 0 24 24\"\n",
              "       width=\"24px\">\n",
              "    <path d=\"M0 0h24v24H0V0z\" fill=\"none\"/>\n",
              "    <path d=\"M18.56 5.44l.94 2.06.94-2.06 2.06-.94-2.06-.94-.94-2.06-.94 2.06-2.06.94zm-11 1L8.5 8.5l.94-2.06 2.06-.94-2.06-.94L8.5 2.5l-.94 2.06-2.06.94zm10 10l.94 2.06.94-2.06 2.06-.94-2.06-.94-.94-2.06-.94 2.06-2.06.94z\"/><path d=\"M17.41 7.96l-1.37-1.37c-.4-.4-.92-.59-1.43-.59-.52 0-1.04.2-1.43.59L10.3 9.45l-7.72 7.72c-.78.78-.78 2.05 0 2.83L4 21.41c.39.39.9.59 1.41.59.51 0 1.02-.2 1.41-.59l7.78-7.78 2.81-2.81c.8-.78.8-2.07 0-2.86zM5.41 20L4 18.59l7.72-7.72 1.47 1.35L5.41 20z\"/>\n",
              "  </svg>\n",
              "      </button>\n",
              "      \n",
              "  <style>\n",
              "    .colab-df-container {\n",
              "      display:flex;\n",
              "      flex-wrap:wrap;\n",
              "      gap: 12px;\n",
              "    }\n",
              "\n",
              "    .colab-df-convert {\n",
              "      background-color: #E8F0FE;\n",
              "      border: none;\n",
              "      border-radius: 50%;\n",
              "      cursor: pointer;\n",
              "      display: none;\n",
              "      fill: #1967D2;\n",
              "      height: 32px;\n",
              "      padding: 0 0 0 0;\n",
              "      width: 32px;\n",
              "    }\n",
              "\n",
              "    .colab-df-convert:hover {\n",
              "      background-color: #E2EBFA;\n",
              "      box-shadow: 0px 1px 2px rgba(60, 64, 67, 0.3), 0px 1px 3px 1px rgba(60, 64, 67, 0.15);\n",
              "      fill: #174EA6;\n",
              "    }\n",
              "\n",
              "    [theme=dark] .colab-df-convert {\n",
              "      background-color: #3B4455;\n",
              "      fill: #D2E3FC;\n",
              "    }\n",
              "\n",
              "    [theme=dark] .colab-df-convert:hover {\n",
              "      background-color: #434B5C;\n",
              "      box-shadow: 0px 1px 3px 1px rgba(0, 0, 0, 0.15);\n",
              "      filter: drop-shadow(0px 1px 2px rgba(0, 0, 0, 0.3));\n",
              "      fill: #FFFFFF;\n",
              "    }\n",
              "  </style>\n",
              "\n",
              "      <script>\n",
              "        const buttonEl =\n",
              "          document.querySelector('#df-24417a93-5aa4-41b8-a355-7fe80f50c9a8 button.colab-df-convert');\n",
              "        buttonEl.style.display =\n",
              "          google.colab.kernel.accessAllowed ? 'block' : 'none';\n",
              "\n",
              "        async function convertToInteractive(key) {\n",
              "          const element = document.querySelector('#df-24417a93-5aa4-41b8-a355-7fe80f50c9a8');\n",
              "          const dataTable =\n",
              "            await google.colab.kernel.invokeFunction('convertToInteractive',\n",
              "                                                     [key], {});\n",
              "          if (!dataTable) return;\n",
              "\n",
              "          const docLinkHtml = 'Like what you see? Visit the ' +\n",
              "            '<a target=\"_blank\" href=https://colab.research.google.com/notebooks/data_table.ipynb>data table notebook</a>'\n",
              "            + ' to learn more about interactive tables.';\n",
              "          element.innerHTML = '';\n",
              "          dataTable['output_type'] = 'display_data';\n",
              "          await google.colab.output.renderOutput(dataTable, element);\n",
              "          const docLink = document.createElement('div');\n",
              "          docLink.innerHTML = docLinkHtml;\n",
              "          element.appendChild(docLink);\n",
              "        }\n",
              "      </script>\n",
              "    </div>\n",
              "  </div>\n",
              "  "
            ]
          },
          "metadata": {},
          "execution_count": 22
        }
      ]
    },
    {
      "cell_type": "code",
      "source": [
        "score = model.evaluate(X_test, y_test)\n",
        "\n",
        "print(\"\\n   categorica_crossentropy  ||   accuracy \")\n",
        "print(\"  ____________________________________\")\n",
        "print(score)"
      ],
      "metadata": {
        "colab": {
          "base_uri": "https://localhost:8080/"
        },
        "id": "sYNMpcu_WjB-",
        "outputId": "fcf31056-fadb-4a07-ef68-f1f381b6af8a"
      },
      "execution_count": 23,
      "outputs": [
        {
          "output_type": "stream",
          "name": "stdout",
          "text": [
            "93/93 [==============================] - 1s 6ms/step - loss: 0.2768 - accuracy: 0.9192\n",
            "\n",
            "   categorica_crossentropy  ||   accuracy \n",
            "  ____________________________________\n",
            "[0.2768016457557678, 0.91923987865448]\n"
          ]
        }
      ]
    },
    {
      "cell_type": "markdown",
      "source": [
        "#### 2.2 Second Model for 2-Layer of LSTM with more hyperparameter tunning"
      ],
      "metadata": {
        "id": "gPw5BDcNWocp"
      }
    },
    {
      "cell_type": "code",
      "source": [
        "# Model execution\n",
        "model = Sequential()\n",
        "model.add(LSTM(64, input_shape=(timesteps, input_dim), return_sequences=True, bias_regularizer=reg))\n",
        "model.add(BatchNormalization())\n",
        "model.add(Dropout(0.50))\n",
        "model.add(LSTM(48))\n",
        "model.add(Dropout(0.50))\n",
        "model.add(Dense(n_classes, activation='sigmoid'))\n",
        "print(\"Model Summary: \")\n",
        "model.summary()"
      ],
      "metadata": {
        "colab": {
          "base_uri": "https://localhost:8080/"
        },
        "id": "KgIyrMM0WsEY",
        "outputId": "c28c7ff3-022b-41a9-ec34-41a5c508cb6f"
      },
      "execution_count": 24,
      "outputs": [
        {
          "output_type": "stream",
          "name": "stdout",
          "text": [
            "Model Summary: \n",
            "Model: \"sequential_2\"\n",
            "_________________________________________________________________\n",
            " Layer (type)                Output Shape              Param #   \n",
            "=================================================================\n",
            " lstm_3 (LSTM)               (None, 128, 64)           18944     \n",
            "                                                                 \n",
            " batch_normalization_1 (Batc  (None, 128, 64)          256       \n",
            " hNormalization)                                                 \n",
            "                                                                 \n",
            " dropout_3 (Dropout)         (None, 128, 64)           0         \n",
            "                                                                 \n",
            " lstm_4 (LSTM)               (None, 48)                21696     \n",
            "                                                                 \n",
            " dropout_4 (Dropout)         (None, 48)                0         \n",
            "                                                                 \n",
            " dense_2 (Dense)             (None, 6)                 294       \n",
            "                                                                 \n",
            "=================================================================\n",
            "Total params: 41,190\n",
            "Trainable params: 41,062\n",
            "Non-trainable params: 128\n",
            "_________________________________________________________________\n"
          ]
        }
      ]
    },
    {
      "cell_type": "code",
      "source": [
        "model.compile(loss='categorical_crossentropy', optimizer='adam', metrics=['accuracy'])"
      ],
      "metadata": {
        "id": "cJ4wvkh5WycW"
      },
      "execution_count": 25,
      "outputs": []
    },
    {
      "cell_type": "code",
      "source": [
        "# Training the model\n",
        "model.fit(X_train, y_train, batch_size=n_batch, validation_data=(X_test, y_test), epochs=n_epochs)"
      ],
      "metadata": {
        "colab": {
          "base_uri": "https://localhost:8080/"
        },
        "id": "VKrGoJiuW3tK",
        "outputId": "ef355cba-bed8-4e99-8472-7ed873fa998e"
      },
      "execution_count": 26,
      "outputs": [
        {
          "output_type": "stream",
          "name": "stdout",
          "text": [
            "Epoch 1/30\n",
            "460/460 [==============================] - 12s 16ms/step - loss: 1.6279 - accuracy: 0.7284 - val_loss: 1.0316 - val_accuracy: 0.8633\n",
            "Epoch 2/30\n",
            "460/460 [==============================] - 7s 16ms/step - loss: 0.7092 - accuracy: 0.8984 - val_loss: 0.4963 - val_accuracy: 0.8941\n",
            "Epoch 3/30\n",
            "460/460 [==============================] - 6s 13ms/step - loss: 0.3547 - accuracy: 0.9161 - val_loss: 0.3265 - val_accuracy: 0.8853\n",
            "Epoch 4/30\n",
            "460/460 [==============================] - 7s 16ms/step - loss: 0.2086 - accuracy: 0.9293 - val_loss: 0.2557 - val_accuracy: 0.9050\n",
            "Epoch 5/30\n",
            "460/460 [==============================] - 6s 13ms/step - loss: 0.2707 - accuracy: 0.9081 - val_loss: 0.3233 - val_accuracy: 0.8907\n",
            "Epoch 6/30\n",
            "460/460 [==============================] - 7s 16ms/step - loss: 0.1797 - accuracy: 0.9336 - val_loss: 0.2454 - val_accuracy: 0.9121\n",
            "Epoch 7/30\n",
            "460/460 [==============================] - 6s 14ms/step - loss: 0.1508 - accuracy: 0.9456 - val_loss: 0.2797 - val_accuracy: 0.9108\n",
            "Epoch 8/30\n",
            "460/460 [==============================] - 7s 16ms/step - loss: 0.1744 - accuracy: 0.9358 - val_loss: 0.2217 - val_accuracy: 0.9121\n",
            "Epoch 9/30\n",
            "460/460 [==============================] - 6s 13ms/step - loss: 0.1450 - accuracy: 0.9430 - val_loss: 0.5539 - val_accuracy: 0.8297\n",
            "Epoch 10/30\n",
            "460/460 [==============================] - 7s 15ms/step - loss: 0.1593 - accuracy: 0.9416 - val_loss: 0.2277 - val_accuracy: 0.9101\n",
            "Epoch 11/30\n",
            "460/460 [==============================] - 6s 13ms/step - loss: 0.1829 - accuracy: 0.9351 - val_loss: 0.2617 - val_accuracy: 0.8989\n",
            "Epoch 12/30\n",
            "460/460 [==============================] - 7s 16ms/step - loss: 0.1430 - accuracy: 0.9474 - val_loss: 0.1956 - val_accuracy: 0.9223\n",
            "Epoch 13/30\n",
            "460/460 [==============================] - 6s 14ms/step - loss: 0.1311 - accuracy: 0.9445 - val_loss: 0.2056 - val_accuracy: 0.9199\n",
            "Epoch 14/30\n",
            "460/460 [==============================] - 7s 15ms/step - loss: 0.1299 - accuracy: 0.9467 - val_loss: 0.2218 - val_accuracy: 0.9240\n",
            "Epoch 15/30\n",
            "460/460 [==============================] - 6s 14ms/step - loss: 0.1676 - accuracy: 0.9374 - val_loss: 0.2386 - val_accuracy: 0.9148\n",
            "Epoch 16/30\n",
            "460/460 [==============================] - 7s 16ms/step - loss: 0.1406 - accuracy: 0.9452 - val_loss: 0.1771 - val_accuracy: 0.9287\n",
            "Epoch 17/30\n",
            "460/460 [==============================] - 6s 13ms/step - loss: 0.1521 - accuracy: 0.9430 - val_loss: 0.2700 - val_accuracy: 0.9074\n",
            "Epoch 18/30\n",
            "460/460 [==============================] - 7s 16ms/step - loss: 0.1314 - accuracy: 0.9464 - val_loss: 0.3049 - val_accuracy: 0.9074\n",
            "Epoch 19/30\n",
            "460/460 [==============================] - 6s 13ms/step - loss: 0.2110 - accuracy: 0.9280 - val_loss: 0.2673 - val_accuracy: 0.9104\n",
            "Epoch 20/30\n",
            "460/460 [==============================] - 7s 15ms/step - loss: 0.1345 - accuracy: 0.9491 - val_loss: 0.2510 - val_accuracy: 0.9199\n",
            "Epoch 21/30\n",
            "460/460 [==============================] - 6s 14ms/step - loss: 0.1347 - accuracy: 0.9457 - val_loss: 0.2200 - val_accuracy: 0.9250\n",
            "Epoch 22/30\n",
            "460/460 [==============================] - 8s 18ms/step - loss: 0.1245 - accuracy: 0.9480 - val_loss: 0.2720 - val_accuracy: 0.9233\n",
            "Epoch 23/30\n",
            "460/460 [==============================] - 6s 14ms/step - loss: 0.1339 - accuracy: 0.9461 - val_loss: 0.3378 - val_accuracy: 0.9091\n",
            "Epoch 24/30\n",
            "460/460 [==============================] - 7s 16ms/step - loss: 0.1301 - accuracy: 0.9474 - val_loss: 0.3753 - val_accuracy: 0.9016\n",
            "Epoch 25/30\n",
            "460/460 [==============================] - 6s 13ms/step - loss: 0.1343 - accuracy: 0.9494 - val_loss: 0.2276 - val_accuracy: 0.9253\n",
            "Epoch 26/30\n",
            "460/460 [==============================] - 7s 16ms/step - loss: 0.1224 - accuracy: 0.9523 - val_loss: 0.2942 - val_accuracy: 0.9220\n",
            "Epoch 27/30\n",
            "460/460 [==============================] - 6s 14ms/step - loss: 0.1188 - accuracy: 0.9525 - val_loss: 0.2944 - val_accuracy: 0.9213\n",
            "Epoch 28/30\n",
            "460/460 [==============================] - 7s 15ms/step - loss: 0.1226 - accuracy: 0.9509 - val_loss: 0.2722 - val_accuracy: 0.9209\n",
            "Epoch 29/30\n",
            "460/460 [==============================] - 6s 14ms/step - loss: 0.1235 - accuracy: 0.9528 - val_loss: 0.3476 - val_accuracy: 0.9158\n",
            "Epoch 30/30\n",
            "460/460 [==============================] - 7s 15ms/step - loss: 0.1238 - accuracy: 0.9501 - val_loss: 0.3191 - val_accuracy: 0.9125\n"
          ]
        },
        {
          "output_type": "execute_result",
          "data": {
            "text/plain": [
              "<keras.callbacks.History at 0x7fef77ea7af0>"
            ]
          },
          "metadata": {},
          "execution_count": 26
        }
      ]
    },
    {
      "cell_type": "code",
      "source": [
        "# Confusion Matrix\n",
        "confusion_matrix(y_test, model.predict(X_test))"
      ],
      "metadata": {
        "colab": {
          "base_uri": "https://localhost:8080/",
          "height": 286
        },
        "id": "65v6IGSdW66a",
        "outputId": "19e9d2db-f9be-4d7c-e4b7-ded3e7b840c1"
      },
      "execution_count": 27,
      "outputs": [
        {
          "output_type": "stream",
          "name": "stdout",
          "text": [
            "93/93 [==============================] - 2s 6ms/step\n"
          ]
        },
        {
          "output_type": "execute_result",
          "data": {
            "text/plain": [
              "Pred                LAYING  SITTING  STANDING  WALKING  WALKING_DOWNSTAIRS  \\\n",
              "True                                                                         \n",
              "LAYING                 537        0         0        0                   0   \n",
              "SITTING                  3      383       102        0                   0   \n",
              "STANDING                 0       93       439        0                   0   \n",
              "WALKING                  0        0         0      471                  15   \n",
              "WALKING_DOWNSTAIRS       0        0         0        1                 415   \n",
              "WALKING_UPSTAIRS         0        0         0        3                  24   \n",
              "\n",
              "Pred                WALKING_UPSTAIRS  \n",
              "True                                  \n",
              "LAYING                             0  \n",
              "SITTING                            3  \n",
              "STANDING                           0  \n",
              "WALKING                           10  \n",
              "WALKING_DOWNSTAIRS                 4  \n",
              "WALKING_UPSTAIRS                 444  "
            ],
            "text/html": [
              "\n",
              "  <div id=\"df-95f9898e-9b5b-494a-bb57-9931fdd90ef6\">\n",
              "    <div class=\"colab-df-container\">\n",
              "      <div>\n",
              "<style scoped>\n",
              "    .dataframe tbody tr th:only-of-type {\n",
              "        vertical-align: middle;\n",
              "    }\n",
              "\n",
              "    .dataframe tbody tr th {\n",
              "        vertical-align: top;\n",
              "    }\n",
              "\n",
              "    .dataframe thead th {\n",
              "        text-align: right;\n",
              "    }\n",
              "</style>\n",
              "<table border=\"1\" class=\"dataframe\">\n",
              "  <thead>\n",
              "    <tr style=\"text-align: right;\">\n",
              "      <th>Pred</th>\n",
              "      <th>LAYING</th>\n",
              "      <th>SITTING</th>\n",
              "      <th>STANDING</th>\n",
              "      <th>WALKING</th>\n",
              "      <th>WALKING_DOWNSTAIRS</th>\n",
              "      <th>WALKING_UPSTAIRS</th>\n",
              "    </tr>\n",
              "    <tr>\n",
              "      <th>True</th>\n",
              "      <th></th>\n",
              "      <th></th>\n",
              "      <th></th>\n",
              "      <th></th>\n",
              "      <th></th>\n",
              "      <th></th>\n",
              "    </tr>\n",
              "  </thead>\n",
              "  <tbody>\n",
              "    <tr>\n",
              "      <th>LAYING</th>\n",
              "      <td>537</td>\n",
              "      <td>0</td>\n",
              "      <td>0</td>\n",
              "      <td>0</td>\n",
              "      <td>0</td>\n",
              "      <td>0</td>\n",
              "    </tr>\n",
              "    <tr>\n",
              "      <th>SITTING</th>\n",
              "      <td>3</td>\n",
              "      <td>383</td>\n",
              "      <td>102</td>\n",
              "      <td>0</td>\n",
              "      <td>0</td>\n",
              "      <td>3</td>\n",
              "    </tr>\n",
              "    <tr>\n",
              "      <th>STANDING</th>\n",
              "      <td>0</td>\n",
              "      <td>93</td>\n",
              "      <td>439</td>\n",
              "      <td>0</td>\n",
              "      <td>0</td>\n",
              "      <td>0</td>\n",
              "    </tr>\n",
              "    <tr>\n",
              "      <th>WALKING</th>\n",
              "      <td>0</td>\n",
              "      <td>0</td>\n",
              "      <td>0</td>\n",
              "      <td>471</td>\n",
              "      <td>15</td>\n",
              "      <td>10</td>\n",
              "    </tr>\n",
              "    <tr>\n",
              "      <th>WALKING_DOWNSTAIRS</th>\n",
              "      <td>0</td>\n",
              "      <td>0</td>\n",
              "      <td>0</td>\n",
              "      <td>1</td>\n",
              "      <td>415</td>\n",
              "      <td>4</td>\n",
              "    </tr>\n",
              "    <tr>\n",
              "      <th>WALKING_UPSTAIRS</th>\n",
              "      <td>0</td>\n",
              "      <td>0</td>\n",
              "      <td>0</td>\n",
              "      <td>3</td>\n",
              "      <td>24</td>\n",
              "      <td>444</td>\n",
              "    </tr>\n",
              "  </tbody>\n",
              "</table>\n",
              "</div>\n",
              "      <button class=\"colab-df-convert\" onclick=\"convertToInteractive('df-95f9898e-9b5b-494a-bb57-9931fdd90ef6')\"\n",
              "              title=\"Convert this dataframe to an interactive table.\"\n",
              "              style=\"display:none;\">\n",
              "        \n",
              "  <svg xmlns=\"http://www.w3.org/2000/svg\" height=\"24px\"viewBox=\"0 0 24 24\"\n",
              "       width=\"24px\">\n",
              "    <path d=\"M0 0h24v24H0V0z\" fill=\"none\"/>\n",
              "    <path d=\"M18.56 5.44l.94 2.06.94-2.06 2.06-.94-2.06-.94-.94-2.06-.94 2.06-2.06.94zm-11 1L8.5 8.5l.94-2.06 2.06-.94-2.06-.94L8.5 2.5l-.94 2.06-2.06.94zm10 10l.94 2.06.94-2.06 2.06-.94-2.06-.94-.94-2.06-.94 2.06-2.06.94z\"/><path d=\"M17.41 7.96l-1.37-1.37c-.4-.4-.92-.59-1.43-.59-.52 0-1.04.2-1.43.59L10.3 9.45l-7.72 7.72c-.78.78-.78 2.05 0 2.83L4 21.41c.39.39.9.59 1.41.59.51 0 1.02-.2 1.41-.59l7.78-7.78 2.81-2.81c.8-.78.8-2.07 0-2.86zM5.41 20L4 18.59l7.72-7.72 1.47 1.35L5.41 20z\"/>\n",
              "  </svg>\n",
              "      </button>\n",
              "      \n",
              "  <style>\n",
              "    .colab-df-container {\n",
              "      display:flex;\n",
              "      flex-wrap:wrap;\n",
              "      gap: 12px;\n",
              "    }\n",
              "\n",
              "    .colab-df-convert {\n",
              "      background-color: #E8F0FE;\n",
              "      border: none;\n",
              "      border-radius: 50%;\n",
              "      cursor: pointer;\n",
              "      display: none;\n",
              "      fill: #1967D2;\n",
              "      height: 32px;\n",
              "      padding: 0 0 0 0;\n",
              "      width: 32px;\n",
              "    }\n",
              "\n",
              "    .colab-df-convert:hover {\n",
              "      background-color: #E2EBFA;\n",
              "      box-shadow: 0px 1px 2px rgba(60, 64, 67, 0.3), 0px 1px 3px 1px rgba(60, 64, 67, 0.15);\n",
              "      fill: #174EA6;\n",
              "    }\n",
              "\n",
              "    [theme=dark] .colab-df-convert {\n",
              "      background-color: #3B4455;\n",
              "      fill: #D2E3FC;\n",
              "    }\n",
              "\n",
              "    [theme=dark] .colab-df-convert:hover {\n",
              "      background-color: #434B5C;\n",
              "      box-shadow: 0px 1px 3px 1px rgba(0, 0, 0, 0.15);\n",
              "      filter: drop-shadow(0px 1px 2px rgba(0, 0, 0, 0.3));\n",
              "      fill: #FFFFFF;\n",
              "    }\n",
              "  </style>\n",
              "\n",
              "      <script>\n",
              "        const buttonEl =\n",
              "          document.querySelector('#df-95f9898e-9b5b-494a-bb57-9931fdd90ef6 button.colab-df-convert');\n",
              "        buttonEl.style.display =\n",
              "          google.colab.kernel.accessAllowed ? 'block' : 'none';\n",
              "\n",
              "        async function convertToInteractive(key) {\n",
              "          const element = document.querySelector('#df-95f9898e-9b5b-494a-bb57-9931fdd90ef6');\n",
              "          const dataTable =\n",
              "            await google.colab.kernel.invokeFunction('convertToInteractive',\n",
              "                                                     [key], {});\n",
              "          if (!dataTable) return;\n",
              "\n",
              "          const docLinkHtml = 'Like what you see? Visit the ' +\n",
              "            '<a target=\"_blank\" href=https://colab.research.google.com/notebooks/data_table.ipynb>data table notebook</a>'\n",
              "            + ' to learn more about interactive tables.';\n",
              "          element.innerHTML = '';\n",
              "          dataTable['output_type'] = 'display_data';\n",
              "          await google.colab.output.renderOutput(dataTable, element);\n",
              "          const docLink = document.createElement('div');\n",
              "          docLink.innerHTML = docLinkHtml;\n",
              "          element.appendChild(docLink);\n",
              "        }\n",
              "      </script>\n",
              "    </div>\n",
              "  </div>\n",
              "  "
            ]
          },
          "metadata": {},
          "execution_count": 27
        }
      ]
    },
    {
      "cell_type": "code",
      "source": [
        "score = model.evaluate(X_test, y_test)\n",
        "\n",
        "print(\"\\n   categorical_crossentropy  ||   accuracy \")\n",
        "print(\"  ____________________________________\")\n",
        "print(score)"
      ],
      "metadata": {
        "colab": {
          "base_uri": "https://localhost:8080/"
        },
        "id": "N7i84QfGW9Er",
        "outputId": "ed7675e9-1ab7-4d20-b3d6-c3772cf7fe57"
      },
      "execution_count": 28,
      "outputs": [
        {
          "output_type": "stream",
          "name": "stdout",
          "text": [
            "93/93 [==============================] - 1s 6ms/step - loss: 0.3191 - accuracy: 0.9125\n",
            "\n",
            "   categorical_crossentropy  ||   accuracy \n",
            "  ____________________________________\n",
            "[0.3190773129463196, 0.9124533534049988]\n"
          ]
        }
      ]
    }
  ]
}