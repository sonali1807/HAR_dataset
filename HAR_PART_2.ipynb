{
  "nbformat": 4,
  "nbformat_minor": 0,
  "metadata": {
    "colab": {
      "provenance": []
    },
    "kernelspec": {
      "name": "python3",
      "display_name": "Python 3"
    },
    "language_info": {
      "name": "python"
    },
    "accelerator": "GPU",
    "gpuClass": "standard"
  },
  "cells": [
    {
      "cell_type": "markdown",
      "source": [
        "# Applying Machine Learning Models"
      ],
      "metadata": {
        "id": "sQGcMFmd1LwL"
      }
    },
    {
      "cell_type": "code",
      "execution_count": null,
      "metadata": {
        "id": "drl_NkpR1AUz"
      },
      "outputs": [],
      "source": [
        "#importing required libraries \n",
        "import numpy as np\n",
        "import pandas as pd\n",
        "import itertools\n",
        "import matplotlib.pyplot as plt\n",
        "from sklearn.metrics import confusion_matrix\n",
        "from datetime import datetime\n",
        "\n",
        "from sklearn import linear_model\n",
        "from sklearn import metrics\n",
        "\n",
        "from sklearn.model_selection import GridSearchCV\n",
        "from sklearn.svm import LinearSVC\n",
        "from sklearn.svm import SVC\n",
        "from sklearn.tree import DecisionTreeClassifier\n",
        "from sklearn.ensemble import RandomForestClassifier\n",
        "from sklearn.ensemble import GradientBoostingClassifier"
      ]
    },
    {
      "cell_type": "markdown",
      "source": [
        "Loading Data form File"
      ],
      "metadata": {
        "id": "Lm6VtVdM1bCS"
      }
    },
    {
      "cell_type": "code",
      "source": [
        "train = pd.read_csv('/content/drive/MyDrive/UCI_HAR_Dataset/csv_files/train.csv')\n",
        "test = pd.read_csv('/content/drive/MyDrive/UCI_HAR_Dataset/csv_files/test.csv')\n",
        "print(train.shape, test.shape)"
      ],
      "metadata": {
        "id": "2T3Z0hWP1aK4",
        "colab": {
          "base_uri": "https://localhost:8080/"
        },
        "outputId": "2caee9cb-bbd7-4d4d-8e28-d2209b176a29"
      },
      "execution_count": null,
      "outputs": [
        {
          "output_type": "stream",
          "name": "stdout",
          "text": [
            "(7352, 564) (2947, 564)\n"
          ]
        }
      ]
    },
    {
      "cell_type": "code",
      "source": [
        "train.head(2)"
      ],
      "metadata": {
        "id": "C9HrxSH97urK",
        "colab": {
          "base_uri": "https://localhost:8080/",
          "height": 222
        },
        "outputId": "1064d9e7-2505-4979-ae84-bf57d41e29f4"
      },
      "execution_count": null,
      "outputs": [
        {
          "output_type": "execute_result",
          "data": {
            "text/plain": [
              "   tBodyAcc-mean()-X  tBodyAcc-mean()-Y  tBodyAcc-mean()-Z  tBodyAcc-std()-X  \\\n",
              "0           0.288585          -0.020294          -0.132905         -0.995279   \n",
              "1           0.278419          -0.016411          -0.123520         -0.998245   \n",
              "\n",
              "   tBodyAcc-std()-Y  tBodyAcc-std()-Z  tBodyAcc-mad()-X  tBodyAcc-mad()-Y  \\\n",
              "0         -0.983111         -0.913526         -0.995112         -0.983185   \n",
              "1         -0.975300         -0.960322         -0.998807         -0.974914   \n",
              "\n",
              "   tBodyAcc-mad()-Z  tBodyAcc-max()-X  ...  angle(tBodyAccMean,gravity)  \\\n",
              "0         -0.923527         -0.934724  ...                    -0.112754   \n",
              "1         -0.957686         -0.943068  ...                     0.053477   \n",
              "\n",
              "   angle(tBodyAccJerkMean),gravityMean)  angle(tBodyGyroMean,gravityMean)  \\\n",
              "0                              0.030400                         -0.464761   \n",
              "1                             -0.007435                         -0.732626   \n",
              "\n",
              "   angle(tBodyGyroJerkMean,gravityMean)  angle(X,gravityMean)  \\\n",
              "0                             -0.018446             -0.841247   \n",
              "1                              0.703511             -0.844788   \n",
              "\n",
              "   angle(Y,gravityMean)  angle(Z,gravityMean)  subject  Activity  ActivityName  \n",
              "0              0.179941             -0.058627        1         5      STANDING  \n",
              "1              0.180289             -0.054317        1         5      STANDING  \n",
              "\n",
              "[2 rows x 564 columns]"
            ],
            "text/html": [
              "\n",
              "  <div id=\"df-71be3a7f-4477-4b31-a1c9-52240847aa30\">\n",
              "    <div class=\"colab-df-container\">\n",
              "      <div>\n",
              "<style scoped>\n",
              "    .dataframe tbody tr th:only-of-type {\n",
              "        vertical-align: middle;\n",
              "    }\n",
              "\n",
              "    .dataframe tbody tr th {\n",
              "        vertical-align: top;\n",
              "    }\n",
              "\n",
              "    .dataframe thead th {\n",
              "        text-align: right;\n",
              "    }\n",
              "</style>\n",
              "<table border=\"1\" class=\"dataframe\">\n",
              "  <thead>\n",
              "    <tr style=\"text-align: right;\">\n",
              "      <th></th>\n",
              "      <th>tBodyAcc-mean()-X</th>\n",
              "      <th>tBodyAcc-mean()-Y</th>\n",
              "      <th>tBodyAcc-mean()-Z</th>\n",
              "      <th>tBodyAcc-std()-X</th>\n",
              "      <th>tBodyAcc-std()-Y</th>\n",
              "      <th>tBodyAcc-std()-Z</th>\n",
              "      <th>tBodyAcc-mad()-X</th>\n",
              "      <th>tBodyAcc-mad()-Y</th>\n",
              "      <th>tBodyAcc-mad()-Z</th>\n",
              "      <th>tBodyAcc-max()-X</th>\n",
              "      <th>...</th>\n",
              "      <th>angle(tBodyAccMean,gravity)</th>\n",
              "      <th>angle(tBodyAccJerkMean),gravityMean)</th>\n",
              "      <th>angle(tBodyGyroMean,gravityMean)</th>\n",
              "      <th>angle(tBodyGyroJerkMean,gravityMean)</th>\n",
              "      <th>angle(X,gravityMean)</th>\n",
              "      <th>angle(Y,gravityMean)</th>\n",
              "      <th>angle(Z,gravityMean)</th>\n",
              "      <th>subject</th>\n",
              "      <th>Activity</th>\n",
              "      <th>ActivityName</th>\n",
              "    </tr>\n",
              "  </thead>\n",
              "  <tbody>\n",
              "    <tr>\n",
              "      <th>0</th>\n",
              "      <td>0.288585</td>\n",
              "      <td>-0.020294</td>\n",
              "      <td>-0.132905</td>\n",
              "      <td>-0.995279</td>\n",
              "      <td>-0.983111</td>\n",
              "      <td>-0.913526</td>\n",
              "      <td>-0.995112</td>\n",
              "      <td>-0.983185</td>\n",
              "      <td>-0.923527</td>\n",
              "      <td>-0.934724</td>\n",
              "      <td>...</td>\n",
              "      <td>-0.112754</td>\n",
              "      <td>0.030400</td>\n",
              "      <td>-0.464761</td>\n",
              "      <td>-0.018446</td>\n",
              "      <td>-0.841247</td>\n",
              "      <td>0.179941</td>\n",
              "      <td>-0.058627</td>\n",
              "      <td>1</td>\n",
              "      <td>5</td>\n",
              "      <td>STANDING</td>\n",
              "    </tr>\n",
              "    <tr>\n",
              "      <th>1</th>\n",
              "      <td>0.278419</td>\n",
              "      <td>-0.016411</td>\n",
              "      <td>-0.123520</td>\n",
              "      <td>-0.998245</td>\n",
              "      <td>-0.975300</td>\n",
              "      <td>-0.960322</td>\n",
              "      <td>-0.998807</td>\n",
              "      <td>-0.974914</td>\n",
              "      <td>-0.957686</td>\n",
              "      <td>-0.943068</td>\n",
              "      <td>...</td>\n",
              "      <td>0.053477</td>\n",
              "      <td>-0.007435</td>\n",
              "      <td>-0.732626</td>\n",
              "      <td>0.703511</td>\n",
              "      <td>-0.844788</td>\n",
              "      <td>0.180289</td>\n",
              "      <td>-0.054317</td>\n",
              "      <td>1</td>\n",
              "      <td>5</td>\n",
              "      <td>STANDING</td>\n",
              "    </tr>\n",
              "  </tbody>\n",
              "</table>\n",
              "<p>2 rows × 564 columns</p>\n",
              "</div>\n",
              "      <button class=\"colab-df-convert\" onclick=\"convertToInteractive('df-71be3a7f-4477-4b31-a1c9-52240847aa30')\"\n",
              "              title=\"Convert this dataframe to an interactive table.\"\n",
              "              style=\"display:none;\">\n",
              "        \n",
              "  <svg xmlns=\"http://www.w3.org/2000/svg\" height=\"24px\"viewBox=\"0 0 24 24\"\n",
              "       width=\"24px\">\n",
              "    <path d=\"M0 0h24v24H0V0z\" fill=\"none\"/>\n",
              "    <path d=\"M18.56 5.44l.94 2.06.94-2.06 2.06-.94-2.06-.94-.94-2.06-.94 2.06-2.06.94zm-11 1L8.5 8.5l.94-2.06 2.06-.94-2.06-.94L8.5 2.5l-.94 2.06-2.06.94zm10 10l.94 2.06.94-2.06 2.06-.94-2.06-.94-.94-2.06-.94 2.06-2.06.94z\"/><path d=\"M17.41 7.96l-1.37-1.37c-.4-.4-.92-.59-1.43-.59-.52 0-1.04.2-1.43.59L10.3 9.45l-7.72 7.72c-.78.78-.78 2.05 0 2.83L4 21.41c.39.39.9.59 1.41.59.51 0 1.02-.2 1.41-.59l7.78-7.78 2.81-2.81c.8-.78.8-2.07 0-2.86zM5.41 20L4 18.59l7.72-7.72 1.47 1.35L5.41 20z\"/>\n",
              "  </svg>\n",
              "      </button>\n",
              "      \n",
              "  <style>\n",
              "    .colab-df-container {\n",
              "      display:flex;\n",
              "      flex-wrap:wrap;\n",
              "      gap: 12px;\n",
              "    }\n",
              "\n",
              "    .colab-df-convert {\n",
              "      background-color: #E8F0FE;\n",
              "      border: none;\n",
              "      border-radius: 50%;\n",
              "      cursor: pointer;\n",
              "      display: none;\n",
              "      fill: #1967D2;\n",
              "      height: 32px;\n",
              "      padding: 0 0 0 0;\n",
              "      width: 32px;\n",
              "    }\n",
              "\n",
              "    .colab-df-convert:hover {\n",
              "      background-color: #E2EBFA;\n",
              "      box-shadow: 0px 1px 2px rgba(60, 64, 67, 0.3), 0px 1px 3px 1px rgba(60, 64, 67, 0.15);\n",
              "      fill: #174EA6;\n",
              "    }\n",
              "\n",
              "    [theme=dark] .colab-df-convert {\n",
              "      background-color: #3B4455;\n",
              "      fill: #D2E3FC;\n",
              "    }\n",
              "\n",
              "    [theme=dark] .colab-df-convert:hover {\n",
              "      background-color: #434B5C;\n",
              "      box-shadow: 0px 1px 3px 1px rgba(0, 0, 0, 0.15);\n",
              "      filter: drop-shadow(0px 1px 2px rgba(0, 0, 0, 0.3));\n",
              "      fill: #FFFFFF;\n",
              "    }\n",
              "  </style>\n",
              "\n",
              "      <script>\n",
              "        const buttonEl =\n",
              "          document.querySelector('#df-71be3a7f-4477-4b31-a1c9-52240847aa30 button.colab-df-convert');\n",
              "        buttonEl.style.display =\n",
              "          google.colab.kernel.accessAllowed ? 'block' : 'none';\n",
              "\n",
              "        async function convertToInteractive(key) {\n",
              "          const element = document.querySelector('#df-71be3a7f-4477-4b31-a1c9-52240847aa30');\n",
              "          const dataTable =\n",
              "            await google.colab.kernel.invokeFunction('convertToInteractive',\n",
              "                                                     [key], {});\n",
              "          if (!dataTable) return;\n",
              "\n",
              "          const docLinkHtml = 'Like what you see? Visit the ' +\n",
              "            '<a target=\"_blank\" href=https://colab.research.google.com/notebooks/data_table.ipynb>data table notebook</a>'\n",
              "            + ' to learn more about interactive tables.';\n",
              "          element.innerHTML = '';\n",
              "          dataTable['output_type'] = 'display_data';\n",
              "          await google.colab.output.renderOutput(dataTable, element);\n",
              "          const docLink = document.createElement('div');\n",
              "          docLink.innerHTML = docLinkHtml;\n",
              "          element.appendChild(docLink);\n",
              "        }\n",
              "      </script>\n",
              "    </div>\n",
              "  </div>\n",
              "  "
            ]
          },
          "metadata": {},
          "execution_count": 3
        }
      ]
    },
    {
      "cell_type": "markdown",
      "source": [
        "### **Making Data for Model**"
      ],
      "metadata": {
        "id": "bm1Q842V7x1j"
      }
    },
    {
      "cell_type": "code",
      "source": [
        "X_train = train.drop(['subject', 'Activity', 'ActivityName'], axis=1)\n",
        "y_train = train.ActivityName\n",
        "\n",
        "X_test = test.drop(['subject', 'Activity', 'ActivityName'], axis=1)\n",
        "y_test = test.ActivityName\n",
        "\n",
        "print('X_train and y_train : ({},{})'.format(X_train.shape, y_train.shape))\n",
        "print('X_test  and y_test  : ({},{})'.format(X_test.shape, y_test.shape))"
      ],
      "metadata": {
        "id": "2iKFWEvy7vet",
        "colab": {
          "base_uri": "https://localhost:8080/"
        },
        "outputId": "4f2cf9f4-98e6-42b8-f1a0-11b8257aa3cd"
      },
      "execution_count": null,
      "outputs": [
        {
          "output_type": "stream",
          "name": "stdout",
          "text": [
            "X_train and y_train : ((7352, 561),(7352,))\n",
            "X_test  and y_test  : ((2947, 561),(2947,))\n"
          ]
        }
      ]
    },
    {
      "cell_type": "markdown",
      "source": [
        "**Creat a model with our Dataset**"
      ],
      "metadata": {
        "id": "K88PMVcEAOd6"
      }
    },
    {
      "cell_type": "code",
      "source": [
        "#Labels that are useful in plotting confusion matrix\n",
        "labels=['LAYING', 'SITTING','STANDING','WALKING','WALKING_DOWNSTAIRS','WALKING_UPSTAIRS']"
      ],
      "metadata": {
        "id": "d0IitEyHAb5U"
      },
      "execution_count": null,
      "outputs": []
    },
    {
      "cell_type": "markdown",
      "source": [
        "**Let's define a function to plot the confusion matrix**"
      ],
      "metadata": {
        "id": "doaaVuPrAXfc"
      }
    },
    {
      "cell_type": "code",
      "source": [
        "def plot_confusion_matrix(cm, classes,\n",
        "                          normalize=False,\n",
        "                          title='Confusion matrix',\n",
        "                          cmap=plt.cm.Blues):\n",
        "    if normalize:\n",
        "        cm = cm.astype('float') / cm.sum(axis=1)[:, np.newaxis]\n",
        "\n",
        "    plt.imshow(cm, interpolation='nearest', cmap=cmap)\n",
        "    plt.title(title)\n",
        "    plt.colorbar()\n",
        "    tick_marks = np.arange(len(classes))\n",
        "    plt.xticks(tick_marks, classes, rotation=90)\n",
        "    plt.yticks(tick_marks, classes)\n",
        "\n",
        "    fmt = '.2f' if normalize else 'd'\n",
        "    thresh = cm.max() / 2.\n",
        "    for i, j in itertools.product(range(cm.shape[0]), range(cm.shape[1])):\n",
        "        plt.text(j, i, format(cm[i, j], fmt),\n",
        "                 horizontalalignment=\"center\",\n",
        "                 color=\"white\" if cm[i, j] > thresh else \"black\")\n",
        "\n",
        "    plt.tight_layout()\n",
        "    plt.ylabel('True label')\n",
        "    plt.xlabel('Predicted label')"
      ],
      "metadata": {
        "id": "UeaZTd0qAfv9"
      },
      "execution_count": null,
      "outputs": []
    },
    {
      "cell_type": "markdown",
      "source": [
        "**Let's define a function to run any model specified**"
      ],
      "metadata": {
        "id": "B5QFLapTBNGA"
      }
    },
    {
      "cell_type": "code",
      "source": [
        "from datetime import datetime\n",
        "def perform_model(model, X_train, y_train, X_test, y_test, class_labels, cm_normalize=True, \\\n",
        "                 print_cm=True, cm_cmap=plt.cm.Greens):\n",
        "    \n",
        "    \n",
        "    # to store results at various phases\n",
        "    results = dict()\n",
        "    \n",
        "    # time at which model starts training \n",
        "    train_start_time = datetime.now()\n",
        "    print('training the model..')\n",
        "    model.fit(X_train, y_train)\n",
        "    print('Done....!\\n')\n",
        "    train_end_time = datetime.now()\n",
        "    results['training_time'] =  train_end_time - train_start_time\n",
        "    print('==> training time:- {}\\n'.format(results['training_time']))\n",
        "    \n",
        "    \n",
        "    # predict test data\n",
        "    print('Predicting test data')\n",
        "    test_start_time = datetime.now()\n",
        "    y_pred = model.predict(X_test)\n",
        "    test_end_time = datetime.now()\n",
        "    print('Done....!\\n')\n",
        "    results['testing_time'] = test_end_time - test_start_time\n",
        "    print('==> testing time:- {}\\n'.format(results['testing_time']))\n",
        "    results['predicted'] = y_pred\n",
        "   \n",
        "\n",
        "    # calculate overall accuracty of the model\n",
        "    accuracy = metrics.accuracy_score(y_true=y_test, y_pred=y_pred)\n",
        "    # store accuracy in results\n",
        "    results['accuracy'] = accuracy\n",
        "    print('==> Accuracy:- {}\\n'.format(accuracy))\n",
        "   \n",
        "    \n",
        "    \n",
        "    # confusion matrix\n",
        "    cm = metrics.confusion_matrix(y_test, y_pred)\n",
        "    results['confusion_matrix'] = cm\n",
        "    if print_cm: \n",
        "        print('\\n ********Confusion Matrix********')\n",
        "        print('\\n {}'.format(cm))\n",
        "        \n",
        "    # plot confusin matrix\n",
        "    plt.figure(figsize=(6,6))\n",
        "    plt.grid(b=False)\n",
        "    plot_confusion_matrix(cm, classes=class_labels, normalize=True, title='Normalized confusion matrix', cmap = cm_cmap)\n",
        "    plt.show()\n",
        "    \n",
        "    # get classification report\n",
        "    print('****************| Classifiction Report |****************')\n",
        "    classification_report = metrics.classification_report(y_test, y_pred)\n",
        "   \n",
        "    # store report in results\n",
        "    results['classification_report'] = classification_report\n",
        "    print(classification_report)\n",
        "    \n",
        "    # add the trained  model to the results\n",
        "    results['model'] = model\n",
        "    \n",
        "    return results"
      ],
      "metadata": {
        "id": "II4zsTIdBeXT"
      },
      "execution_count": null,
      "outputs": []
    },
    {
      "cell_type": "markdown",
      "source": [
        "**Define function to print the gridsearch Parameters**"
      ],
      "metadata": {
        "id": "NJWTvtZmCiPD"
      }
    },
    {
      "cell_type": "code",
      "source": [
        "\n",
        "def print_grid_search_attributes(model):\n",
        "    # Estimator that gave highest score among all the estimators formed in GridSearch\n",
        "    print('\\n\\n==> Best Estimator:')\n",
        "    print('\\t{}\\n'.format(model.best_estimator_))\n",
        "\n",
        "\n",
        "    # parameters that gave best results while performing grid search\n",
        "    print('\\n==> Best parameters:')\n",
        "    print('\\tParameters of best estimator : {}'.format(model.best_params_))\n",
        "\n",
        "\n",
        "    #  number of cross validation splits\n",
        "    print('\\n==> No. of CrossValidation sets:')\n",
        "    print('\\tTotal numbre of cross validation sets: {}'.format(model.n_splits_))\n",
        "\n",
        "\n",
        "    # Average cross validated score of the best estimator, from the Grid Search \n",
        "    print('\\n==> Best Score:')\n",
        "    print('\\tAverage Cross Validate scores of best estimator : {}'.format(model.best_score_))"
      ],
      "metadata": {
        "id": "SUmk6iANChqE"
      },
      "execution_count": null,
      "outputs": []
    },
    {
      "cell_type": "markdown",
      "source": [
        "### 1. Logistic Regression with Grid Search"
      ],
      "metadata": {
        "id": "SED_FTJ9C_0a"
      }
    },
    {
      "cell_type": "code",
      "source": [
        "import warnings\n",
        "from sklearn.exceptions import ConvergenceWarning\n",
        "warnings.filterwarnings(\"ignore\")\n",
        "warnings.simplefilter(action='ignore', category=ConvergenceWarning)\n",
        "\n",
        "#Grid search\n",
        "parameters = {'C':[0.01, 0.1, 1, 10, 20, 30], 'penalty':['l2','l1']}\n",
        "log_reg = linear_model.LogisticRegression()\n",
        "log_reg_grid = GridSearchCV(log_reg, param_grid=parameters, cv=3, verbose=1, n_jobs=-1)\n",
        "log_reg_grid_results =  perform_model(log_reg_grid, X_train, y_train, X_test, y_test, class_labels=labels)\n",
        "\n",
        "# observe the attributes of the model \n",
        "print_grid_search_attributes(log_reg_grid_results['model'])"
      ],
      "metadata": {
        "colab": {
          "base_uri": "https://localhost:8080/",
          "height": 1000
        },
        "id": "PB5MBnOqDGpK",
        "outputId": "75410cc9-e23b-4573-f8ee-d8b73ed679a1"
      },
      "execution_count": null,
      "outputs": [
        {
          "output_type": "stream",
          "name": "stdout",
          "text": [
            "training the model..\n",
            "Fitting 3 folds for each of 12 candidates, totalling 36 fits\n",
            "Done....!\n",
            "\n",
            "==> training time:- 0:00:41.661560\n",
            "\n",
            "Predicting test data\n",
            "Done....!\n",
            "\n",
            "==> testing time:- 0:00:00.014502\n",
            "\n",
            "==> Accuracy:- 0.9579233118425518\n",
            "\n",
            "\n",
            " ********Confusion Matrix********\n",
            "\n",
            " [[537   0   0   0   0   0]\n",
            " [  0 430  58   0   0   3]\n",
            " [  0  16 516   0   0   0]\n",
            " [  0   0   0 492   3   1]\n",
            " [  0   0   0   4 403  13]\n",
            " [  0   0   0  24   2 445]]\n"
          ]
        },
        {
          "output_type": "display_data",
          "data": {
            "text/plain": [
              "<Figure size 432x432 with 2 Axes>"
            ],
            "image/png": "[encoded data removed]"
          },
          "metadata": {
            "needs_background": "light"
          }
        },
        {
          "output_type": "stream",
          "name": "stdout",
          "text": [
            "****************| Classifiction Report |****************\n",
            "                    precision    recall  f1-score   support\n",
            "\n",
            "            LAYING       1.00      1.00      1.00       537\n",
            "           SITTING       0.96      0.88      0.92       491\n",
            "          STANDING       0.90      0.97      0.93       532\n",
            "           WALKING       0.95      0.99      0.97       496\n",
            "WALKING_DOWNSTAIRS       0.99      0.96      0.97       420\n",
            "  WALKING_UPSTAIRS       0.96      0.94      0.95       471\n",
            "\n",
            "          accuracy                           0.96      2947\n",
            "         macro avg       0.96      0.96      0.96      2947\n",
            "      weighted avg       0.96      0.96      0.96      2947\n",
            "\n",
            "\n",
            "\n",
            "==> Best Estimator:\n",
            "\tLogisticRegression(C=1)\n",
            "\n",
            "\n",
            "==> Best parameters:\n",
            "\tParameters of best estimator : {'C': 1, 'penalty': 'l2'}\n",
            "\n",
            "==> No. of CrossValidation sets:\n",
            "\tTotal numbre of cross validation sets: 3\n",
            "\n",
            "==> Best Score:\n",
            "\tAverage Cross Validate scores of best estimator : 0.938249555228048\n"
          ]
        }
      ]
    },
    {
      "cell_type": "markdown",
      "source": [
        "### 2. Linear SVC with GridSearch"
      ],
      "metadata": {
        "id": "7s-e9KL9Dazr"
      }
    },
    {
      "cell_type": "code",
      "source": [
        "parameters = {'C':[0.125, 0.5, 1, 2, 8, 16]}\n",
        "lr_svc = LinearSVC(tol=0.00005)\n",
        "lr_svc_grid = GridSearchCV(lr_svc, param_grid=parameters, n_jobs=-1, verbose=1)\n",
        "lr_svc_grid_results = perform_model(lr_svc_grid, X_train, y_train, X_test, y_test, class_labels=labels)\n",
        "\n",
        "# observe the attributes of the model \n",
        "print_grid_search_attributes(lr_svc_grid_results['model'])"
      ],
      "metadata": {
        "colab": {
          "base_uri": "https://localhost:8080/",
          "height": 1000
        },
        "id": "Jfpz4EZiDaBf",
        "outputId": "47659c7b-86f7-42d5-9f2e-6462be171e83"
      },
      "execution_count": null,
      "outputs": [
        {
          "output_type": "stream",
          "name": "stdout",
          "text": [
            "training the model..\n",
            "Fitting 5 folds for each of 6 candidates, totalling 30 fits\n",
            "Done....!\n",
            "\n",
            "==> training time:- 0:02:10.736328\n",
            "\n",
            "Predicting test data\n",
            "Done....!\n",
            "\n",
            "==> testing time:- 0:00:00.012594\n",
            "\n",
            "==> Accuracy:- 0.9667458432304038\n",
            "\n",
            "\n",
            " ********Confusion Matrix********\n",
            "\n",
            " [[537   0   0   0   0   0]\n",
            " [  2 428  58   0   0   3]\n",
            " [  0   9 522   1   0   0]\n",
            " [  0   0   0 496   0   0]\n",
            " [  0   0   0   3 412   5]\n",
            " [  0   0   0  17   0 454]]\n"
          ]
        },
        {
          "output_type": "display_data",
          "data": {
            "text/plain": [
              "<Figure size 432x432 with 2 Axes>"
            ],
            "image/png": "[encoded data removed]"
          },
          "metadata": {
            "needs_background": "light"
          }
        },
        {
          "output_type": "stream",
          "name": "stdout",
          "text": [
            "****************| Classifiction Report |****************\n",
            "                    precision    recall  f1-score   support\n",
            "\n",
            "            LAYING       1.00      1.00      1.00       537\n",
            "           SITTING       0.98      0.87      0.92       491\n",
            "          STANDING       0.90      0.98      0.94       532\n",
            "           WALKING       0.96      1.00      0.98       496\n",
            "WALKING_DOWNSTAIRS       1.00      0.98      0.99       420\n",
            "  WALKING_UPSTAIRS       0.98      0.96      0.97       471\n",
            "\n",
            "          accuracy                           0.97      2947\n",
            "         macro avg       0.97      0.97      0.97      2947\n",
            "      weighted avg       0.97      0.97      0.97      2947\n",
            "\n",
            "\n",
            "\n",
            "==> Best Estimator:\n",
            "\tLinearSVC(C=0.5, tol=5e-05)\n",
            "\n",
            "\n",
            "==> Best parameters:\n",
            "\tParameters of best estimator : {'C': 0.5}\n",
            "\n",
            "==> No. of CrossValidation sets:\n",
            "\tTotal numbre of cross validation sets: 5\n",
            "\n",
            "==> Best Score:\n",
            "\tAverage Cross Validate scores of best estimator : 0.9423364179118282\n"
          ]
        }
      ]
    },
    {
      "cell_type": "markdown",
      "source": [
        "### 3. Kernel SVM with GridSearch"
      ],
      "metadata": {
        "id": "hjRIYxO1Ea50"
      }
    },
    {
      "cell_type": "code",
      "source": [
        "parameters = {'C':[2,8,16],\\\n",
        "              'gamma': [ 0.0078125, 0.125, 2]}\n",
        "rbf_svm = SVC(kernel='rbf')\n",
        "rbf_svm_grid = GridSearchCV(rbf_svm,param_grid=parameters, n_jobs=-1)\n",
        "rbf_svm_grid_results = perform_model(rbf_svm_grid, X_train, y_train, X_test, y_test, class_labels=labels)\n",
        "\n",
        "# observe the attributes of the model \n",
        "print_grid_search_attributes(rbf_svm_grid_results['model'])"
      ],
      "metadata": {
        "colab": {
          "base_uri": "https://localhost:8080/",
          "height": 1000
        },
        "id": "oSWIPupPEbGs",
        "outputId": "830a2f6d-705d-4f16-92f8-ab4204c7eb9f"
      },
      "execution_count": null,
      "outputs": [
        {
          "output_type": "stream",
          "name": "stdout",
          "text": [
            "training the model..\n",
            "Done....!\n",
            "\n",
            "==> training time:- 0:07:39.387062\n",
            "\n",
            "Predicting test data\n",
            "Done....!\n",
            "\n",
            "==> testing time:- 0:00:01.752974\n",
            "\n",
            "==> Accuracy:- 0.9626739056667798\n",
            "\n",
            "\n",
            " ********Confusion Matrix********\n",
            "\n",
            " [[537   0   0   0   0   0]\n",
            " [  0 441  48   0   0   2]\n",
            " [  0  12 520   0   0   0]\n",
            " [  0   0   0 489   2   5]\n",
            " [  0   0   0   4 397  19]\n",
            " [  0   0   0  17   1 453]]\n"
          ]
        },
        {
          "output_type": "display_data",
          "data": {
            "text/plain": [
              "<Figure size 432x432 with 2 Axes>"
            ],
            "image/png": "[encoded data removed]"
          },
          "metadata": {
            "needs_background": "light"
          }
        },
        {
          "output_type": "stream",
          "name": "stdout",
          "text": [
            "****************| Classifiction Report |****************\n",
            "                    precision    recall  f1-score   support\n",
            "\n",
            "            LAYING       1.00      1.00      1.00       537\n",
            "           SITTING       0.97      0.90      0.93       491\n",
            "          STANDING       0.92      0.98      0.95       532\n",
            "           WALKING       0.96      0.99      0.97       496\n",
            "WALKING_DOWNSTAIRS       0.99      0.95      0.97       420\n",
            "  WALKING_UPSTAIRS       0.95      0.96      0.95       471\n",
            "\n",
            "          accuracy                           0.96      2947\n",
            "         macro avg       0.96      0.96      0.96      2947\n",
            "      weighted avg       0.96      0.96      0.96      2947\n",
            "\n",
            "\n",
            "\n",
            "==> Best Estimator:\n",
            "\tSVC(C=16, gamma=0.0078125)\n",
            "\n",
            "\n",
            "==> Best parameters:\n",
            "\tParameters of best estimator : {'C': 16, 'gamma': 0.0078125}\n",
            "\n",
            "==> No. of CrossValidation sets:\n",
            "\tTotal numbre of cross validation sets: 5\n",
            "\n",
            "==> Best Score:\n",
            "\tAverage Cross Validate scores of best estimator : 0.9447834551903698\n"
          ]
        }
      ]
    },
    {
      "cell_type": "markdown",
      "source": [
        "### 4. Decision Trees with GridSearchCV"
      ],
      "metadata": {
        "id": "4RF5aOZeEizo"
      }
    },
    {
      "cell_type": "code",
      "source": [
        "parameters = {'max_depth':np.arange(3,10,2)}\n",
        "dt = DecisionTreeClassifier()\n",
        "dt_grid = GridSearchCV(dt,param_grid=parameters, n_jobs=-1)\n",
        "dt_grid_results = perform_model(dt_grid, X_train, y_train, X_test, y_test, class_labels=labels)\n",
        "\n",
        "# observe the attributes of the model \n",
        "print_grid_search_attributes(dt_grid_results['model'])"
      ],
      "metadata": {
        "colab": {
          "base_uri": "https://localhost:8080/",
          "height": 1000
        },
        "id": "-HbZkItNEjCf",
        "outputId": "37de1ab5-da98-4a0d-b2af-1b91f1847a42"
      },
      "execution_count": null,
      "outputs": [
        {
          "output_type": "stream",
          "name": "stdout",
          "text": [
            "training the model..\n",
            "Done....!\n",
            "\n",
            "==> training time:- 0:00:37.518427\n",
            "\n",
            "Predicting test data\n",
            "Done....!\n",
            "\n",
            "==> testing time:- 0:00:00.006978\n",
            "\n",
            "==> Accuracy:- 0.8768238887003733\n",
            "\n",
            "\n",
            " ********Confusion Matrix********\n",
            "\n",
            " [[537   0   0   0   0   0]\n",
            " [  0 374 117   0   0   0]\n",
            " [  0  60 472   0   0   0]\n",
            " [  0   0   0 473  17   6]\n",
            " [  0   0   0  27 345  48]\n",
            " [  0   0   0  67  21 383]]\n"
          ]
        },
        {
          "output_type": "display_data",
          "data": {
            "text/plain": [
              "<Figure size 432x432 with 2 Axes>"
            ],
            "image/png": "[encoded data removed]"
          },
          "metadata": {
            "needs_background": "light"
          }
        },
        {
          "output_type": "stream",
          "name": "stdout",
          "text": [
            "****************| Classifiction Report |****************\n",
            "                    precision    recall  f1-score   support\n",
            "\n",
            "            LAYING       1.00      1.00      1.00       537\n",
            "           SITTING       0.86      0.76      0.81       491\n",
            "          STANDING       0.80      0.89      0.84       532\n",
            "           WALKING       0.83      0.95      0.89       496\n",
            "WALKING_DOWNSTAIRS       0.90      0.82      0.86       420\n",
            "  WALKING_UPSTAIRS       0.88      0.81      0.84       471\n",
            "\n",
            "          accuracy                           0.88      2947\n",
            "         macro avg       0.88      0.87      0.87      2947\n",
            "      weighted avg       0.88      0.88      0.88      2947\n",
            "\n",
            "\n",
            "\n",
            "==> Best Estimator:\n",
            "\tDecisionTreeClassifier(max_depth=9)\n",
            "\n",
            "\n",
            "==> Best parameters:\n",
            "\tParameters of best estimator : {'max_depth': 9}\n",
            "\n",
            "==> No. of CrossValidation sets:\n",
            "\tTotal numbre of cross validation sets: 5\n",
            "\n",
            "==> Best Score:\n",
            "\tAverage Cross Validate scores of best estimator : 0.853654924920342\n"
          ]
        }
      ]
    },
    {
      "cell_type": "markdown",
      "source": [
        "### 5. Random Forest Classifier with GridSearch"
      ],
      "metadata": {
        "id": "g9b081RwEtjp"
      }
    },
    {
      "cell_type": "code",
      "source": [
        "params = {'n_estimators': np.arange(10,201,20), 'max_depth':np.arange(3,15,2)}\n",
        "rfc = RandomForestClassifier()\n",
        "rfc_grid = GridSearchCV(rfc, param_grid=params, n_jobs=-1)\n",
        "rfc_grid_results = perform_model(rfc_grid, X_train, y_train, X_test, y_test, class_labels=labels)\n",
        "\n",
        "# observe the attributes of the model \n",
        "print_grid_search_attributes(rfc_grid_results['model'])"
      ],
      "metadata": {
        "colab": {
          "base_uri": "https://localhost:8080/",
          "height": 1000
        },
        "id": "JGrZ3NXdEuWF",
        "outputId": "8a214001-4d0d-4992-ff81-d2f43bd0601f"
      },
      "execution_count": null,
      "outputs": [
        {
          "output_type": "stream",
          "name": "stdout",
          "text": [
            "training the model..\n",
            "Done....!\n",
            "\n",
            "==> training time:- 0:24:49.189297\n",
            "\n",
            "Predicting test data\n",
            "Done....!\n",
            "\n",
            "==> testing time:- 0:00:00.033684\n",
            "\n",
            "==> Accuracy:- 0.9195792331184255\n",
            "\n",
            "\n",
            " ********Confusion Matrix********\n",
            "\n",
            " [[537   0   0   0   0   0]\n",
            " [  0 428  63   0   0   0]\n",
            " [  0  40 492   0   0   0]\n",
            " [  0   0   0 481  11   4]\n",
            " [  0   0   0  28 354  38]\n",
            " [  0   0   0  46   7 418]]\n"
          ]
        },
        {
          "output_type": "display_data",
          "data": {
            "text/plain": [
              "<Figure size 432x432 with 2 Axes>"
            ],
            "image/png": "[encoded data removed]"
          },
          "metadata": {
            "needs_background": "light"
          }
        },
        {
          "output_type": "stream",
          "name": "stdout",
          "text": [
            "****************| Classifiction Report |****************\n",
            "                    precision    recall  f1-score   support\n",
            "\n",
            "            LAYING       1.00      1.00      1.00       537\n",
            "           SITTING       0.91      0.87      0.89       491\n",
            "          STANDING       0.89      0.92      0.91       532\n",
            "           WALKING       0.87      0.97      0.92       496\n",
            "WALKING_DOWNSTAIRS       0.95      0.84      0.89       420\n",
            "  WALKING_UPSTAIRS       0.91      0.89      0.90       471\n",
            "\n",
            "          accuracy                           0.92      2947\n",
            "         macro avg       0.92      0.92      0.92      2947\n",
            "      weighted avg       0.92      0.92      0.92      2947\n",
            "\n",
            "\n",
            "\n",
            "==> Best Estimator:\n",
            "\tRandomForestClassifier(max_depth=13, n_estimators=50)\n",
            "\n",
            "\n",
            "==> Best parameters:\n",
            "\tParameters of best estimator : {'max_depth': 13, 'n_estimators': 50}\n",
            "\n",
            "==> No. of CrossValidation sets:\n",
            "\tTotal numbre of cross validation sets: 5\n",
            "\n",
            "==> Best Score:\n",
            "\tAverage Cross Validate scores of best estimator : 0.9243778816761239\n"
          ]
        }
      ]
    },
    {
      "cell_type": "markdown",
      "source": [
        "### 6. Comparing all models"
      ],
      "metadata": {
        "id": "CQ7KUMbqFJ0x"
      }
    },
    {
      "cell_type": "code",
      "source": [
        "print('\\n                     Accuracy     Error')\n",
        "print('                     ----------   --------')\n",
        "print('Logistic Regression : {:.04}%       {:.04}%'.format(log_reg_grid_results['accuracy'] * 100,\\\n",
        "                                                  100-(log_reg_grid_results['accuracy'] * 100)))\n",
        "\n",
        "print('Linear SVC          : {:.04}%       {:.04}% '.format(lr_svc_grid_results['accuracy'] * 100,\\\n",
        "                                                        100-(lr_svc_grid_results['accuracy'] * 100)))\n",
        "\n",
        "print('rbf SVM classifier  : {:.04}%      {:.04}% '.format(rbf_svm_grid_results['accuracy'] * 100,\\\n",
        "                                                          100-(rbf_svm_grid_results['accuracy'] * 100)))\n",
        "\n",
        "print('DecisionTree        : {:.04}%      {:.04}% '.format(dt_grid_results['accuracy'] * 100,\\\n",
        "                                                        100-(dt_grid_results['accuracy'] * 100)))\n",
        "\n",
        "print('Random Forest       : {:.04}%      {:.04}% '.format(rfc_grid_results['accuracy'] * 100,\\\n",
        "                                                           100-(rfc_grid_results['accuracy'] * 100)))"
      ],
      "metadata": {
        "colab": {
          "base_uri": "https://localhost:8080/"
        },
        "id": "euXHQqyWFLnI",
        "outputId": "7073f45b-3fe4-4cd1-82c2-d1d49bbca09d"
      },
      "execution_count": null,
      "outputs": [
        {
          "output_type": "stream",
          "name": "stdout",
          "text": [
            "\n",
            "                     Accuracy     Error\n",
            "                     ----------   --------\n",
            "Logistic Regression : 95.79%       4.208%\n",
            "Linear SVC          : 96.67%       3.325% \n",
            "rbf SVM classifier  : 96.27%      3.733% \n",
            "DecisionTree        : 87.68%      12.32% \n",
            "Random Forest       : 91.96%      8.042% \n"
          ]
        }
      ]
    },
    {
      "cell_type": "markdown",
      "source": [
        "#### Plotting graph to show Accuracy with every Model "
      ],
      "metadata": {
        "id": "pF98YyQn500P"
      }
    },
    {
      "cell_type": "code",
      "source": [
        "x= [\"Logistic Regression\",\"Linear SVC\",\"rbf SVM classifie\",\"DecisionTree\",\"Random Forest\"]\n",
        "y= [95.79,96.67,96.27,87.68,91.96]\n",
        "plt.bar(x,y, color=['green', 'blue', 'black', 'red','purple'])\n",
        "plt.xlabel(\"Models\")\n",
        "plt.ylabel('Accuracy')\n",
        "plt.title('Comparison of Model Accuracy')\n",
        "plt.show()"
      ],
      "metadata": {
        "colab": {
          "base_uri": "https://localhost:8080/",
          "height": 295
        },
        "id": "eBEqWYuQ5_uJ",
        "outputId": "202e91ed-28c8-4c0f-8f81-85fcc3ac8bc4"
      },
      "execution_count": null,
      "outputs": [
        {
          "output_type": "display_data",
          "data": {
            "text/plain": [
              "<Figure size 432x288 with 1 Axes>"
            ],
            "image/png": "[encoded data removed]"
          },
          "metadata": {
            "needs_background": "light"
          }
        }
      ]
    },
    {
      "cell_type": "markdown",
      "source": [
        "\n",
        "\n",
        "*  From the result, we can choose  ___Linear SVC___ or ___rbf SVM___ as our ML Model.\n",
        "\n"
      ],
      "metadata": {
        "id": "qPvqZk9cFadn"
      }
    }
  ]
}